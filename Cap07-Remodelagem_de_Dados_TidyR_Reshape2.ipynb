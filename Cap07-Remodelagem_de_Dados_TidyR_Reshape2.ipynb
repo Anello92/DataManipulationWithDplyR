{
  "nbformat": 4,
  "nbformat_minor": 0,
  "metadata": {
    "colab": {
      "name": "Remodelagem-de-Dados-com-R.ipynb",
      "provenance": [],
      "collapsed_sections": []
    },
    "kernelspec": {
      "name": "python3",
      "display_name": "Python 3"
    },
    "accelerator": "GPU"
  },
  "cells": [
    {
      "cell_type": "code",
      "metadata": {
        "id": "2h-2I4CviFCR",
        "colab_type": "code",
        "outputId": "a7229231-2571-43d7-80ea-80fa908aa9c8",
        "colab": {
          "base_uri": "https://localhost:8080/",
          "height": 104
        }
      },
      "source": [
        "# activate R magic\n",
        "%load_ext rpy2.ipython"
      ],
      "execution_count": 4,
      "outputs": [
        {
          "output_type": "stream",
          "text": [
            "/usr/local/lib/python3.6/dist-packages/rpy2/robjects/pandas2ri.py:14: FutureWarning: pandas.core.index is deprecated and will be removed in a future version.  The public classes are available in the top-level namespace.\n",
            "  from pandas.core.index import Index as PandasIndex\n",
            "/usr/local/lib/python3.6/dist-packages/rpy2/robjects/pandas2ri.py:34: UserWarning: pandas >= 1.0 is not supported.\n",
            "  warnings.warn('pandas >= 1.0 is not supported.')\n"
          ],
          "name": "stderr"
        }
      ]
    },
    {
      "cell_type": "markdown",
      "metadata": {
        "id": "dtkChhxpiWEd",
        "colab_type": "text"
      },
      "source": [
        "%%R\n",
        "#**Remodelagem de Dados com R** \n",
        "\n"
      ]
    },
    {
      "cell_type": "markdown",
      "metadata": {
        "id": "SQ7FqxHo94I5",
        "colab_type": "text"
      },
      "source": [
        "**tidyr** - Remodelagem de Dados, **Formatação dos dados**. Com apenas uma função, somos capazes de mudar completamente o formato (shape) dos nossos dados e isso pode fazer muita diferença no processo de análise. \n",
        "\n",
        "- gather( )  -    tudo que é linha vira coluna\n",
        "- spread( )  -    tudo que é coluna vira linha\n",
        "- separate( ) -  separar coluna coluna data em dia | mês | ano\n",
        "- unite( ) - unir dados em uma única coluna\n"
      ]
    },
    {
      "cell_type": "markdown",
      "metadata": {
        "id": "e9LawpdlRsqB",
        "colab_type": "text"
      },
      "source": [
        "---"
      ]
    },
    {
      "cell_type": "markdown",
      "metadata": {
        "id": "H0wA38-qIhZj",
        "colab_type": "text"
      },
      "source": [
        "\n",
        "#**tidyr - Remodelagem de Dados**"
      ]
    },
    {
      "cell_type": "code",
      "metadata": {
        "id": "D_asKHU5InrK",
        "colab_type": "code",
        "colab": {}
      },
      "source": [
        "%%R\n",
        "# Instalando os pacotes\n",
        "install.packages(\"tidyr\")\n",
        "install.packages(\"ggplot2\")\n",
        "library(tidyr)\n",
        "library(ggplot2)\n"
      ],
      "execution_count": 0,
      "outputs": []
    },
    {
      "cell_type": "markdown",
      "metadata": {
        "id": "S1yYa43f8Ypq",
        "colab_type": "text"
      },
      "source": [
        "## Dados de notas em disciplinas\n"
      ]
    },
    {
      "cell_type": "code",
      "metadata": {
        "id": "t8-yfSYtIyJr",
        "colab_type": "code",
        "colab": {
          "base_uri": "https://localhost:8080/",
          "height": 84
        },
        "outputId": "f428dddd-2419-4829-dda4-cee3de87bafa"
      },
      "source": [
        "%%R\n",
        "dados <- data.frame(\n",
        "    Nome = c(\"Geografia\", \"Literatura\", \"Biologia\"),\n",
        "    Regiao_A = c(97, 80, 84),\n",
        "    Regiao_B = c(86, 90, 91)\n",
        ")\n",
        "dados"
      ],
      "execution_count": 107,
      "outputs": [
        {
          "output_type": "stream",
          "text": [
            "        Nome Regiao_A Regiao_B\n",
            "1  Geografia       97       86\n",
            "2 Literatura       80       90\n",
            "3   Biologia       84       91\n"
          ],
          "name": "stdout"
        }
      ]
    },
    {
      "cell_type": "markdown",
      "metadata": {
        "id": "mh7XyPpk--5c",
        "colab_type": "text"
      },
      "source": [
        "---"
      ]
    },
    {
      "cell_type": "markdown",
      "metadata": {
        "id": "U2GgZyOb9jJq",
        "colab_type": "text"
      },
      "source": [
        "#**gather()**- {tidyr}\n",
        "## Remodelar variáveis e valores de forma clara\n",
        "### Extrair da Região_A e Região_B a NotaFinal e Região.\n"
      ]
    },
    {
      "cell_type": "code",
      "metadata": {
        "id": "wZoIj_cgLAcH",
        "colab_type": "code",
        "outputId": "769cadfd-9e5f-471a-8553-2153647b9785",
        "colab": {
          "base_uri": "https://localhost:8080/",
          "height": 134
        }
      },
      "source": [
        "%%R\n",
        "dados %>% \n",
        "  gather(Regiao, NotaFinal, Regiao_A:Regiao_B)\n",
        "  # gerar duas novas colunas a partir de Regiao_A e Regiao_B\n",
        "  # agora temos de fato 3 variáveis diferentes e suas combinações"
      ],
      "execution_count": 109,
      "outputs": [
        {
          "output_type": "stream",
          "text": [
            "        Nome   Regiao NotaFinal\n",
            "1  Geografia Regiao_A        97\n",
            "2 Literatura Regiao_A        80\n",
            "3   Biologia Regiao_A        84\n",
            "4  Geografia Regiao_B        86\n",
            "5 Literatura Regiao_B        90\n",
            "6   Biologia Regiao_B        91\n"
          ],
          "name": "stdout"
        }
      ]
    },
    {
      "cell_type": "markdown",
      "metadata": {
        "id": "ZSqIcdxz_K8U",
        "colab_type": "text"
      },
      "source": [
        "---"
      ]
    },
    {
      "cell_type": "markdown",
      "metadata": {
        "id": "4NWid_LP_WSN",
        "colab_type": "text"
      },
      "source": [
        "#**Criando DataFrame II**"
      ]
    },
    {
      "cell_type": "markdown",
      "metadata": {
        "id": "k01NshTFAxK7",
        "colab_type": "text"
      },
      "source": [
        "## Repetição de informação apenas com títulos diferentes\n",
        "\n"
      ]
    },
    {
      "cell_type": "code",
      "metadata": {
        "id": "Y-0T1uJFLFn-",
        "colab_type": "code",
        "outputId": "16abf7bf-1ef6-4f5c-92c7-5777501ed163",
        "colab": {
          "base_uri": "https://localhost:8080/",
          "height": 101
        }
      },
      "source": [
        "%%R \n",
        " set.seed(10)\n",
        " df2 = data.frame(\n",
        "    id = 1:4,\n",
        "    acao = sample(rep(c(\"controle\", \"tratamento\"), each = 2)),\n",
        "    work.T1 = runif(4),\n",
        "    home.T1 = runif(4),\n",
        "    work.T2 = runif(4),\n",
        "    home.T2 = runif(4)\n",
        " )\n",
        "\n",
        " df2"
      ],
      "execution_count": 116,
      "outputs": [
        {
          "output_type": "stream",
          "text": [
            "  id       acao    work.T1   home.T1   work.T2    home.T2\n",
            "1  1 tratamento 0.08513597 0.6158293 0.1135090 0.05190332\n",
            "2  2   controle 0.22543662 0.4296715 0.5959253 0.26417767\n",
            "3  3   controle 0.27453052 0.6516557 0.3580500 0.39879073\n",
            "4  4 tratamento 0.27230507 0.5677378 0.4288094 0.83613414\n"
          ],
          "name": "stdout"
        }
      ]
    },
    {
      "cell_type": "markdown",
      "metadata": {
        "id": "V3afRhKYBIQJ",
        "colab_type": "text"
      },
      "source": [
        "#**gather() - Reshape 1** **bold text**"
      ]
    },
    {
      "cell_type": "code",
      "metadata": {
        "id": "_8HOl0poLFsH",
        "colab_type": "code",
        "outputId": "6bdce1a9-9e9d-40fd-85f3-9420ce350fc5",
        "colab": {
          "base_uri": "https://localhost:8080/",
          "height": 168
        }
      },
      "source": [
        "%%R\n",
        " df2_organizado1 <- df2 %>% #df2 concatenará %>% com a função gather()\n",
        "  gather (key, time, -id, -acao) #função gather criará duas novas colunas key e time\n",
        "\n",
        "  df2_organizado1 %>% head(8)"
      ],
      "execution_count": 121,
      "outputs": [
        {
          "output_type": "stream",
          "text": [
            "  id       acao     key       time\n",
            "1  1 tratamento work.T1 0.08513597\n",
            "2  2   controle work.T1 0.22543662\n",
            "3  3   controle work.T1 0.27453052\n",
            "4  4 tratamento work.T1 0.27230507\n",
            "5  1 tratamento home.T1 0.61582931\n",
            "6  2   controle home.T1 0.42967153\n",
            "7  3   controle home.T1 0.65165567\n",
            "8  4 tratamento home.T1 0.56773775\n"
          ],
          "name": "stdout"
        }
      ]
    },
    {
      "cell_type": "markdown",
      "metadata": {
        "id": "y9tOHeiNDLam",
        "colab_type": "text"
      },
      "source": [
        "## Resultado do Reshape 1:\n",
        "\n",
        "- A função gather() pegará todas as colunas exceto (-)id e (-)acao \n",
        "- Estas colunas selecionadas serão agrupadas nas novas colunas \"key\" e \"time\"\n",
        "- Tudo que representa a variável TEMPO paea paea coluna \"time\"\n",
        "- Tudo que representa o número|código do turno passa para coluna \"key\"\n"
      ]
    },
    {
      "cell_type": "markdown",
      "metadata": {
        "id": "znXi1VTjEpn8",
        "colab_type": "text"
      },
      "source": [
        "## \"T1\" parece representar algo a mais"
      ]
    },
    {
      "cell_type": "markdown",
      "metadata": {
        "id": "Yw-e-mbVFXod",
        "colab_type": "text"
      },
      "source": [
        "\n",
        "\n",
        "---\n",
        "\n",
        "\n",
        "\n",
        "---\n",
        "\n"
      ]
    },
    {
      "cell_type": "markdown",
      "metadata": {
        "id": "2Wo5WYpZFS11",
        "colab_type": "text"
      },
      "source": [
        "#**separate() - Reshape II** \n",
        "\n",
        "Separamos T1 em uma coluna nova, selecionando a coluna \"key\" e colocando work e home em novas colunas chamada s\"localidade\" e T1 em \"tempo\" separadas por ponto \\\\. através da função separate()."
      ]
    },
    {
      "cell_type": "code",
      "metadata": {
        "id": "YCd_8x73E41y",
        "colab_type": "code",
        "colab": {
          "base_uri": "https://localhost:8080/",
          "height": 168
        },
        "outputId": "40b50bd1-64cb-48fc-af70-1a51812cb812"
      },
      "source": [
        "%%R\n",
        "df2_organizado2 <- df2_organizado1 %>%\n",
        "  separate(key, into = c(\"localidade\", \"tempo\"), sep =\"\\\\.\")\n",
        "\n",
        "df2_organizado2 %>% head(8)\n"
      ],
      "execution_count": 124,
      "outputs": [
        {
          "output_type": "stream",
          "text": [
            "  id       acao localidade tempo       time\n",
            "1  1 tratamento       work    T1 0.08513597\n",
            "2  2   controle       work    T1 0.22543662\n",
            "3  3   controle       work    T1 0.27453052\n",
            "4  4 tratamento       work    T1 0.27230507\n",
            "5  1 tratamento       home    T1 0.61582931\n",
            "6  2   controle       home    T1 0.42967153\n",
            "7  3   controle       home    T1 0.65165567\n",
            "8  4 tratamento       home    T1 0.56773775\n"
          ],
          "name": "stdout"
        }
      ]
    },
    {
      "cell_type": "markdown",
      "metadata": {
        "id": "AoJz72xnEcEb",
        "colab_type": "text"
      },
      "source": [
        "---"
      ]
    },
    {
      "cell_type": "markdown",
      "metadata": {
        "id": "1RbTC0wnMxt5",
        "colab_type": "text"
      },
      "source": [
        "#**Reshape III** "
      ]
    },
    {
      "cell_type": "code",
      "metadata": {
        "id": "K448UCFJLFu-",
        "colab_type": "code",
        "colab": {
          "base_uri": "https://localhost:8080/",
          "height": 134
        },
        "outputId": "82805629-6f3b-49c0-9bce-312352ba7152"
      },
      "source": [
        "%%R\n",
        " df3 <- data.frame(\n",
        "     participante = c(\"p1\", \"p2\", \"p3\", \"p4\", \"p5\", \"p6\"),\n",
        "     info = c(\"g1m\",\"g1m\",\"g1f\", \"g2m\", \"g2m\", \"g2m\"),\n",
        "     day1score = rnorm(n = 6, mean = 80, sd =15), \n",
        "     day2score = rnorm(n = 6, mean = 88, sd = 8)\n",
        " )\n",
        "\n",
        " print(df3)"
      ],
      "execution_count": 125,
      "outputs": [
        {
          "output_type": "stream",
          "text": [
            "  participante info day1score day2score\n",
            "1           p1  g1m  96.52669  80.36045\n",
            "2           p2  g1m  91.33672  86.43880\n",
            "3           p3  g1f  76.42650  95.40417\n",
            "4           p4  g2m  94.81167  91.86383\n",
            "5           p5  g2m  91.12085  83.22951\n",
            "6           p6  g2m  81.34021  70.51771\n"
          ],
          "name": "stdout"
        }
      ]
    },
    {
      "cell_type": "markdown",
      "metadata": {
        "id": "zgXX8LE5Ol0p",
        "colab_type": "text"
      },
      "source": [
        "#**gather()** "
      ]
    },
    {
      "cell_type": "code",
      "metadata": {
        "id": "O72i6jZCKMo1",
        "colab_type": "code",
        "outputId": "6a94032c-fe60-4397-e6b0-86bf02b3bd1e",
        "colab": {
          "base_uri": "https://localhost:8080/",
          "height": 235
        }
      },
      "source": [
        "%%R\n",
        "  df3 %>%\n",
        "    gather(day, score, c(day1score, day2score))\n",
        "    #day e score serão as duas novas colunas criadas a partir de day1 e day2\n",
        "    #day1score e day2score na nova coluna day\n",
        "    #valores de day1 e day2 na nova coluna score"
      ],
      "execution_count": 127,
      "outputs": [
        {
          "output_type": "stream",
          "text": [
            "   participante info       day    score\n",
            "1            p1  g1m day1score 96.52669\n",
            "2            p2  g1m day1score 91.33672\n",
            "3            p3  g1f day1score 76.42650\n",
            "4            p4  g2m day1score 94.81167\n",
            "5            p5  g2m day1score 91.12085\n",
            "6            p6  g2m day1score 81.34021\n",
            "7            p1  g1m day2score 80.36045\n",
            "8            p2  g1m day2score 86.43880\n",
            "9            p3  g1f day2score 95.40417\n",
            "10           p4  g2m day2score 91.86383\n",
            "11           p5  g2m day2score 83.22951\n",
            "12           p6  g2m day2score 70.51771\n"
          ],
          "name": "stdout"
        }
      ]
    },
    {
      "cell_type": "markdown",
      "metadata": {
        "id": "N0f0Bc0tOmpG",
        "colab_type": "text"
      },
      "source": [
        "#**gather() x spread()**"
      ]
    },
    {
      "cell_type": "code",
      "metadata": {
        "id": "iYpAEaK9N9Nv",
        "colab_type": "code",
        "colab": {
          "base_uri": "https://localhost:8080/",
          "height": 134
        },
        "outputId": "5c3012e7-4292-43d1-a14e-64b870c2f4fd"
      },
      "source": [
        "%%R\n",
        "  df3 %>%\n",
        "  gather(day, score, day1score, day2score) %>%\n",
        "  spread(day, score)\n",
        "  # quando a mudança não é a esperada, voltar para o molde origina\n",
        "  # ao usar o gather, retornou para o origninal - mudançã inesperada\n",
        "  # spread é o oposto da função do gather"
      ],
      "execution_count": 128,
      "outputs": [
        {
          "output_type": "stream",
          "text": [
            "  participante info day1score day2score\n",
            "1           p1  g1m  96.52669  80.36045\n",
            "2           p2  g1m  91.33672  86.43880\n",
            "3           p3  g1f  76.42650  95.40417\n",
            "4           p4  g2m  94.81167  91.86383\n",
            "5           p5  g2m  91.12085  83.22951\n",
            "6           p6  g2m  81.34021  70.51771\n"
          ],
          "name": "stdout"
        }
      ]
    },
    {
      "cell_type": "markdown",
      "metadata": {
        "id": "2cohFraFUmVU",
        "colab_type": "text"
      },
      "source": [
        "#**separate()**"
      ]
    },
    {
      "cell_type": "code",
      "metadata": {
        "id": "Tv--vhcFR34a",
        "colab_type": "code",
        "colab": {
          "base_uri": "https://localhost:8080/",
          "height": 235
        },
        "outputId": "ff23cbaf-bc12-4caf-db4c-f9cf53c98734"
      },
      "source": [
        "%%R\n",
        "  df3 %>%\n",
        "  gather(day, score, c(day1score, day2score)) %>% # concatenar gather com separate\n",
        "  separate(col = info, into = c(\"group\", \"gender\"), sep = 2)\n",
        "  #separação com base em \"group\" e \"gender\"\n",
        "  #tudo que era \"g\" alocado em uma coluna agrupamento \"group\"\n",
        "  #tudo que era m ou f alocado em um coluna de gênero \"gender\""
      ],
      "execution_count": 131,
      "outputs": [
        {
          "output_type": "stream",
          "text": [
            "   participante group gender       day    score\n",
            "1            p1    g1      m day1score 96.52669\n",
            "2            p2    g1      m day1score 91.33672\n",
            "3            p3    g1      f day1score 76.42650\n",
            "4            p4    g2      m day1score 94.81167\n",
            "5            p5    g2      m day1score 91.12085\n",
            "6            p6    g2      m day1score 81.34021\n",
            "7            p1    g1      m day2score 80.36045\n",
            "8            p2    g1      m day2score 86.43880\n",
            "9            p3    g1      f day2score 95.40417\n",
            "10           p4    g2      m day2score 91.86383\n",
            "11           p5    g2      m day2score 83.22951\n",
            "12           p6    g2      m day2score 70.51771\n"
          ],
          "name": "stdout"
        }
      ]
    },
    {
      "cell_type": "markdown",
      "metadata": {
        "id": "spxYflIQU28d",
        "colab_type": "text"
      },
      "source": [
        "#**unite()**"
      ]
    },
    {
      "cell_type": "code",
      "metadata": {
        "id": "1kYIZERiKXff",
        "colab_type": "code",
        "outputId": "8fd5e5b7-8303-4c1f-8bff-bf95abb4091c",
        "colab": {
          "base_uri": "https://localhost:8080/",
          "height": 235
        }
      },
      "source": [
        "%%R\n",
        "df3 %>%\n",
        "  gather(day, score, c(day1score, day2score)) %>%\n",
        "  separate(col = info, into = c(\"group\", \"gender\"), sep = 2) %>%\n",
        "  unite(infoAgain, group, gender) #unificar novamente com unite\n",
        "  #inicialmente tinhamos \"participante|info|day1|day2\" e aplicamos gather\n",
        "  #decidimos unificar novamente usando uma notação e criar \"infoAgain\"\n",
        "  #analisar se os dados podem ou não, devem ou não ser separados \n"
      ],
      "execution_count": 132,
      "outputs": [
        {
          "output_type": "stream",
          "text": [
            "   participante infoAgain       day    score\n",
            "1            p1      g1_m day1score 96.52669\n",
            "2            p2      g1_m day1score 91.33672\n",
            "3            p3      g1_f day1score 76.42650\n",
            "4            p4      g2_m day1score 94.81167\n",
            "5            p5      g2_m day1score 91.12085\n",
            "6            p6      g2_m day1score 81.34021\n",
            "7            p1      g1_m day2score 80.36045\n",
            "8            p2      g1_m day2score 86.43880\n",
            "9            p3      g1_f day2score 95.40417\n",
            "10           p4      g2_m day2score 91.86383\n",
            "11           p5      g2_m day2score 83.22951\n",
            "12           p6      g2_m day2score 70.51771\n"
          ],
          "name": "stdout"
        }
      ]
    },
    {
      "cell_type": "markdown",
      "metadata": {
        "id": "RW68H3MPWSZq",
        "colab_type": "text"
      },
      "source": [
        "---"
      ]
    },
    {
      "cell_type": "markdown",
      "metadata": {
        "id": "KN0w1MB0Wvja",
        "colab_type": "text"
      },
      "source": [
        "#**Poder da Manipulação de Dados em R**"
      ]
    },
    {
      "cell_type": "markdown",
      "metadata": {
        "id": "WkwEjAjNX74K",
        "colab_type": "text"
      },
      "source": [
        "## Podemos fazer tudo junto\n",
        "#### Pegar o data frame, fazer o gather() para modificar o shape de linha e coluna, aplicar separate() para modificar e separar as colunas, chamar ggplot() para plotar os dados em em um geom_point(), facet_wrap() para separar dois gráficos numa mesma área de plotagem e por último geom_smooth() para aplicar um **modelo de regressão linear**. "
      ]
    },
    {
      "cell_type": "code",
      "metadata": {
        "id": "Qy_AlBiCKXjE",
        "colab_type": "code",
        "outputId": "cc66645f-fb78-4603-cd53-5362a2f09a4c",
        "colab": {
          "base_uri": "https://localhost:8080/",
          "height": 530
        }
      },
      "source": [
        "%%R\n",
        "df3 %>%\n",
        "  gather(day, score, c(day1score, day2score)) %>%\n",
        "  separate(col = info, into = c(\"group\", \"gender\"), sep = 2) %>%\n",
        "  ggplot(aes(x = day, y = score)) + \n",
        "  geom_point() + \n",
        "  facet_wrap(~ group) +\n",
        "  geom_smooth(method = \"lm\", aes(group = 1), se = F)\n",
        "  \n"
      ],
      "execution_count": 133,
      "outputs": [
        {
          "output_type": "stream",
          "text": [
            "R[write to console]: `geom_smooth()` using formula 'y ~ x'\n",
            "\n"
          ],
          "name": "stderr"
        },
        {
          "output_type": "display_data",
          "data": {
            "image/png": "[encoded data removed]"
          },
          "metadata": {
            "tags": []
          }
        }
      ]
    },
    {
      "cell_type": "markdown",
      "metadata": {
        "id": "a-hnLe92X2OJ",
        "colab_type": "text"
      },
      "source": [
        "---"
      ]
    },
    {
      "cell_type": "markdown",
      "metadata": {
        "id": "L3-Y9uACPXl8",
        "colab_type": "text"
      },
      "source": [
        "#**Pacote Reshape()**  - {stats}"
      ]
    },
    {
      "cell_type": "markdown",
      "metadata": {
        "id": "UHS-8_ivpaeR",
        "colab_type": "text"
      },
      "source": [
        ""
      ]
    },
    {
      "cell_type": "code",
      "metadata": {
        "id": "ac39LBtRKXvH",
        "colab_type": "code",
        "outputId": "0a9940e6-1208-4308-c25f-3d4cc2e8291d",
        "colab": {
          "base_uri": "https://localhost:8080/",
          "height": 134
        }
      },
      "source": [
        "%%R \n",
        " head(mtcars)"
      ],
      "execution_count": 136,
      "outputs": [
        {
          "output_type": "stream",
          "text": [
            "                   mpg cyl disp  hp drat    wt  qsec vs am gear carb\n",
            "Mazda RX4         21.0   6  160 110 3.90 2.620 16.46  0  1    4    4\n",
            "Mazda RX4 Wag     21.0   6  160 110 3.90 2.875 17.02  0  1    4    4\n",
            "Datsun 710        22.8   4  108  93 3.85 2.320 18.61  1  1    4    1\n",
            "Hornet 4 Drive    21.4   6  258 110 3.08 3.215 19.44  1  0    3    1\n",
            "Hornet Sportabout 18.7   8  360 175 3.15 3.440 17.02  0  0    3    2\n",
            "Valiant           18.1   6  225 105 2.76 3.460 20.22  1  0    3    1\n"
          ],
          "name": "stdout"
        }
      ]
    },
    {
      "cell_type": "code",
      "metadata": {
        "id": "XxYUx_7CeB6I",
        "colab_type": "code",
        "colab": {}
      },
      "source": [
        "%%R\n",
        "  t(mtcars) #transposta para transformar linhas em colunas, colunas em linhas"
      ],
      "execution_count": 0,
      "outputs": []
    },
    {
      "cell_type": "markdown",
      "metadata": {
        "id": "KvhNDXD3X1Mq",
        "colab_type": "text"
      },
      "source": [
        "---"
      ]
    },
    {
      "cell_type": "code",
      "metadata": {
        "id": "lBFXgVrNqGm5",
        "colab_type": "code",
        "colab": {
          "base_uri": "https://localhost:8080/",
          "height": 138
        },
        "outputId": "bd164c69-e11e-42f1-d50b-4513c8bd046a"
      },
      "source": [
        "%%R\n",
        "head(iris)\n",
        "str(iris)\n",
        "library(lattice) # criar gráficos com o pacote lattice"
      ],
      "execution_count": 6,
      "outputs": [
        {
          "output_type": "stream",
          "text": [
            "'data.frame':\t150 obs. of  5 variables:\n",
            " $ Sepal.Length: num  5.1 4.9 4.7 4.6 5 5.4 4.6 5 4.4 4.9 ...\n",
            " $ Sepal.Width : num  3.5 3 3.2 3.1 3.6 3.9 3.4 3.4 2.9 3.1 ...\n",
            " $ Petal.Length: num  1.4 1.4 1.3 1.5 1.4 1.7 1.4 1.5 1.4 1.5 ...\n",
            " $ Petal.Width : num  0.2 0.2 0.2 0.2 0.2 0.4 0.3 0.2 0.2 0.1 ...\n",
            " $ Species     : Factor w/ 3 levels \"setosa\",\"versicolor\",..: 1 1 1 1 1 1 1 1 1 1 ...\n"
          ],
          "name": "stdout"
        }
      ]
    },
    {
      "cell_type": "markdown",
      "metadata": {
        "id": "SH6gR_iMrRPc",
        "colab_type": "text"
      },
      "source": [
        "# Distribuindo os dados verticalmente (long)\n"
      ]
    },
    {
      "cell_type": "code",
      "metadata": {
        "id": "INoATw3srQeu",
        "colab_type": "code",
        "colab": {}
      },
      "source": [
        "%%R\n",
        "iris_modif <- reshape(iris, #passar conjunto de dados com parâmetro\n",
        "                      varying = 1:4, #a variação com quais colunas queremos fazer a transformação\n",
        "                      v.names = \"Medidas\", #nome para nova coluna\n",
        "                      timevar = \"Dimensoes\", #nome para a nova coluna\n",
        "                      times = names(iris)[1:4], \n",
        "                      idvar = \"ID\", #qual será a coluna para variação\n",
        "                      direction = \"long\") #direção longa ou não"
      ],
      "execution_count": 0,
      "outputs": []
    },
    {
      "cell_type": "code",
      "metadata": {
        "id": "67UTrqRAsCAq",
        "colab_type": "code",
        "colab": {
          "base_uri": "https://localhost:8080/",
          "height": 134
        },
        "outputId": "aa72dc5a-d8d9-45e1-abbf-398a8f197d69"
      },
      "source": [
        "%%R\n",
        "head(iris)"
      ],
      "execution_count": 11,
      "outputs": [
        {
          "output_type": "stream",
          "text": [
            "  Sepal.Length Sepal.Width Petal.Length Petal.Width Species\n",
            "1          5.1         3.5          1.4         0.2  setosa\n",
            "2          4.9         3.0          1.4         0.2  setosa\n",
            "3          4.7         3.2          1.3         0.2  setosa\n",
            "4          4.6         3.1          1.5         0.2  setosa\n",
            "5          5.0         3.6          1.4         0.2  setosa\n",
            "6          5.4         3.9          1.7         0.4  setosa\n"
          ],
          "name": "stdout"
        }
      ]
    },
    {
      "cell_type": "markdown",
      "metadata": {
        "id": "oKnjSEw-sG5b",
        "colab_type": "text"
      },
      "source": [
        "## iris **X** iris_modif com reshape()\n",
        "\n",
        "#####Perceba que movemos Sepal.Length que é um dos atributos para o índice, na hora do fatiamento pode ser muito útil. Adicionando novo ID ao final."
      ]
    },
    {
      "cell_type": "code",
      "metadata": {
        "id": "_r_Ydfivr40D",
        "colab_type": "code",
        "colab": {
          "base_uri": "https://localhost:8080/",
          "height": 134
        },
        "outputId": "41872bc0-fdf4-4e32-a89e-23649531c200"
      },
      "source": [
        "%%R\n",
        "head(iris_modif)"
      ],
      "execution_count": 16,
      "outputs": [
        {
          "output_type": "stream",
          "text": [
            "               Species    Dimensoes Medidas ID\n",
            "1.Sepal.Length  setosa Sepal.Length     5.1  1\n",
            "2.Sepal.Length  setosa Sepal.Length     4.9  2\n",
            "3.Sepal.Length  setosa Sepal.Length     4.7  3\n",
            "4.Sepal.Length  setosa Sepal.Length     4.6  4\n",
            "5.Sepal.Length  setosa Sepal.Length     5.0  5\n",
            "6.Sepal.Length  setosa Sepal.Length     5.4  6\n"
          ],
          "name": "stdout"
        }
      ]
    },
    {
      "cell_type": "code",
      "metadata": {
        "id": "Rruo6mGPfGjL",
        "colab_type": "code",
        "colab": {
          "base_uri": "https://localhost:8080/",
          "height": 497
        },
        "outputId": "642d7ee6-64db-43a8-dd1b-1049be856b68"
      },
      "source": [
        "%%R\n",
        "bwplot(Medidas ~ Species | Dimensoes, data = iris_modif)\n",
        "#boxplot com a interação de duas variáveis que então vão interagir com outra variável\n",
        "#o resultado da relação de Medidas e Species relacionando com Dimensoes\n",
        "#ultimo parâmetro é a modificação do iris com reshape"
      ],
      "execution_count": 21,
      "outputs": [
        {
          "output_type": "display_data",
          "data": {
            "image/png": "[encoded data removed]"
          },
          "metadata": {
            "tags": []
          }
        }
      ]
    },
    {
      "cell_type": "markdown",
      "metadata": {
        "id": "tJqbrS2svtf0",
        "colab_type": "text"
      },
      "source": [
        "##Irix **X** Reshape(iris) II"
      ]
    },
    {
      "cell_type": "code",
      "metadata": {
        "id": "1HdZTtdtfBEM",
        "colab_type": "code",
        "colab": {
          "base_uri": "https://localhost:8080/",
          "height": 134
        },
        "outputId": "15207e2f-cbfe-4fab-e129-d6bb07400883"
      },
      "source": [
        "%%R\n",
        "iris_modif_sp <- reshape(iris, #recebe conjunto iris como parâmetro\n",
        "                         varying = list(c(1,3),c(2,4)),#variação com quais colunas fazer a transformação\n",
        "                         v.names = c(\"Comprimento\", \"Largura\"),#nomes dados às novas colunas\n",
        "                         timevar = \"Parte\", \n",
        "                         times = c(\"Sepal\", \"Petal\"),\n",
        "                         idvar = \"ID\", \n",
        "                         direction = \"long\")\n",
        "\n",
        "head(iris_modif_sp)#iris reshape2"
      ],
      "execution_count": 23,
      "outputs": [
        {
          "output_type": "stream",
          "text": [
            "        Species Parte Comprimento Largura ID\n",
            "1.Sepal  setosa Sepal         5.1     3.5  1\n",
            "2.Sepal  setosa Sepal         4.9     3.0  2\n",
            "3.Sepal  setosa Sepal         4.7     3.2  3\n",
            "4.Sepal  setosa Sepal         4.6     3.1  4\n",
            "5.Sepal  setosa Sepal         5.0     3.6  5\n",
            "6.Sepal  setosa Sepal         5.4     3.9  6\n"
          ],
          "name": "stdout"
        }
      ]
    },
    {
      "cell_type": "code",
      "metadata": {
        "id": "H1cpMhU2x4ey",
        "colab_type": "code",
        "colab": {
          "base_uri": "https://localhost:8080/",
          "height": 134
        },
        "outputId": "ec8d24ba-942d-4ac5-8492-03d79729247c"
      },
      "source": [
        "%%R\n",
        "head(iris)#iris original"
      ],
      "execution_count": 30,
      "outputs": [
        {
          "output_type": "stream",
          "text": [
            "  Sepal.Length Sepal.Width Petal.Length Petal.Width Species\n",
            "1          5.1         3.5          1.4         0.2  setosa\n",
            "2          4.9         3.0          1.4         0.2  setosa\n",
            "3          4.7         3.2          1.3         0.2  setosa\n",
            "4          4.6         3.1          1.5         0.2  setosa\n",
            "5          5.0         3.6          1.4         0.2  setosa\n",
            "6          5.4         3.9          1.7         0.4  setosa\n"
          ],
          "name": "stdout"
        }
      ]
    },
    {
      "cell_type": "markdown",
      "metadata": {
        "id": "__B3LPIcxlOJ",
        "colab_type": "text"
      },
      "source": [
        "#### Deixamos apenas Sepal como Index. Esticamos verticalmente um pouco o comprimento do dataset deixando apenas como dados Species, Parte, Comprimento Largura e ID"
      ]
    },
    {
      "cell_type": "code",
      "metadata": {
        "id": "hfZNDxPKv4HB",
        "colab_type": "code",
        "colab": {
          "base_uri": "https://localhost:8080/",
          "height": 497
        },
        "outputId": "6eebe061-f587-4744-f47e-f007730da97b"
      },
      "source": [
        "%%R \n",
        "xyplot(Comprimento ~  Largura | Species, #relação do resultado de duas variáves com Species\n",
        "       groups = Parte, \n",
        "       data = iris_modif_sp, #ultimo dataset ajustado\n",
        "       auto.key = list(space=\"right\"))\n",
        "#xyplot de dispersão do pacote lattice"
      ],
      "execution_count": 32,
      "outputs": [
        {
          "output_type": "display_data",
          "data": {
            "image/png": "[encoded data removed]"
          },
          "metadata": {
            "tags": []
          }
        }
      ]
    },
    {
      "cell_type": "code",
      "metadata": {
        "id": "3CFO501lfGtz",
        "colab_type": "code",
        "colab": {
          "base_uri": "https://localhost:8080/",
          "height": 497
        },
        "outputId": "cacba1ed-6de8-4172-dddc-5fe55c0a6661"
      },
      "source": [
        "%%R\n",
        "xyplot(Comprimento ~  Largura | Parte, #relacionamento apenas entre duas variáveis\n",
        "       groups = Species, \n",
        "       data = iris_modif_sp,\n",
        "       auto.key = list(space=\"right\"))"
      ],
      "execution_count": 34,
      "outputs": [
        {
          "output_type": "display_data",
          "data": {
            "image/png": "[encoded data removed]"
          },
          "metadata": {
            "tags": []
          }
        }
      ]
    },
    {
      "cell_type": "markdown",
      "metadata": {
        "id": "2E0OZmEAzmre",
        "colab_type": "text"
      },
      "source": [
        "---"
      ]
    },
    {
      "cell_type": "markdown",
      "metadata": {
        "id": "pG3Co1ocpgnl",
        "colab_type": "text"
      },
      "source": [
        "#**Pacote Reshape()**  - {\"reshape2\"}\n",
        "##Remodelagem de dados"
      ]
    },
    {
      "cell_type": "code",
      "metadata": {
        "id": "fV1vXIDVfIET",
        "colab_type": "code",
        "colab": {}
      },
      "source": [
        "# Reshape2\n",
        "%%R\n",
        "install.packages(\"reshape2\")\n",
        "library(reshape2)"
      ],
      "execution_count": 0,
      "outputs": []
    },
    {
      "cell_type": "markdown",
      "metadata": {
        "id": "YTq8ngJuzRjY",
        "colab_type": "text"
      },
      "source": [
        "## Criando novo DataFrame aleatório"
      ]
    },
    {
      "cell_type": "code",
      "metadata": {
        "id": "wO6_Co_kfICW",
        "colab_type": "code",
        "colab": {
          "base_uri": "https://localhost:8080/",
          "height": 67
        },
        "outputId": "c44b58e5-5701-4c12-c679-bd315d4e6615"
      },
      "source": [
        "%%R\n",
        "# Criando um dataframe\n",
        "df = data.frame(nome = c(\"Zico\", \"Pele\"), \n",
        "               chuteira = c(40, 42),\n",
        "               idade = c(34,NA),\n",
        "               peso = c(93, NA),\n",
        "               altura = c(175, 178))\n",
        "df"
      ],
      "execution_count": 37,
      "outputs": [
        {
          "output_type": "stream",
          "text": [
            "  nome chuteira idade peso altura\n",
            "1 Zico       40    34   93    175\n",
            "2 Pele       42    NA   NA    178\n"
          ],
          "name": "stdout"
        }
      ]
    },
    {
      "cell_type": "markdown",
      "metadata": {
        "id": "k7L2JaL3zg8B",
        "colab_type": "text"
      },
      "source": [
        "#### Duas pessoas e seus atributos.\n"
      ]
    },
    {
      "cell_type": "markdown",
      "metadata": {
        "id": "LZv9EjyIz6ZN",
        "colab_type": "text"
      },
      "source": [
        "---"
      ]
    },
    {
      "cell_type": "markdown",
      "metadata": {
        "id": "0ku6fR3Yz18C",
        "colab_type": "text"
      },
      "source": [
        "#**melt()** - linhas em colunas {reshape}\n",
        "\n",
        "### Derretendo DataFrame"
      ]
    },
    {
      "cell_type": "code",
      "metadata": {
        "id": "Y5IL55VAfH6x",
        "colab_type": "code",
        "colab": {
          "base_uri": "https://localhost:8080/",
          "height": 134
        },
        "outputId": "db3e01b1-5535-4500-d857-ac6c47f7cd2a"
      },
      "source": [
        "%%R\n",
        "# \"Derretendo\" o dataframe - Função melt() \n",
        "df_wide = melt(df, id = c(\"nome\", \"chuteira\"))\n",
        "df_wide\n",
        "\n"
      ],
      "execution_count": 40,
      "outputs": [
        {
          "output_type": "stream",
          "text": [
            "  nome chuteira variable value\n",
            "1 Zico       40    idade    34\n",
            "2 Pele       42    idade    NA\n",
            "3 Zico       40     peso    93\n",
            "4 Pele       42     peso    NA\n",
            "5 Zico       40   altura   175\n",
            "6 Pele       42   altura   178\n"
          ],
          "name": "stdout"
        }
      ]
    },
    {
      "cell_type": "markdown",
      "metadata": {
        "id": "JSePR5X70TFC",
        "colab_type": "text"
      },
      "source": [
        "## Com melt() acima temos agora **atributos como variáveis**. \n",
        "\n"
      ]
    },
    {
      "cell_type": "code",
      "metadata": {
        "id": "QbXOcHB60Oj9",
        "colab_type": "code",
        "colab": {
          "base_uri": "https://localhost:8080/",
          "height": 67
        },
        "outputId": "b27a8089-4a85-4355-ee8a-a8ae9e9a38bc"
      },
      "source": [
        "%%R\n",
        "df"
      ],
      "execution_count": 42,
      "outputs": [
        {
          "output_type": "stream",
          "text": [
            "  nome chuteira idade peso altura\n",
            "1 Zico       40    34   93    175\n",
            "2 Pele       42    NA   NA    178\n"
          ],
          "name": "stdout"
        }
      ]
    },
    {
      "cell_type": "markdown",
      "metadata": {
        "id": "21vsGepd0bDp",
        "colab_type": "text"
      },
      "source": [
        "## Com este DataFrame original não temos as variáveis distribuídas por colunas"
      ]
    },
    {
      "cell_type": "markdown",
      "metadata": {
        "id": "SL6aYyoI1p4M",
        "colab_type": "text"
      },
      "source": [
        "---"
      ]
    },
    {
      "cell_type": "markdown",
      "metadata": {
        "id": "tB3_BaEU1kqd",
        "colab_type": "text"
      },
      "source": [
        "#**na.rm = TRUE**"
      ]
    },
    {
      "cell_type": "code",
      "metadata": {
        "id": "FHOCMxiEfH3k",
        "colab_type": "code",
        "colab": {
          "base_uri": "https://localhost:8080/",
          "height": 101
        },
        "outputId": "17771fee-1bba-4e61-ac84-34057064a7a4"
      },
      "source": [
        "%%R\n",
        "# Removendo NA\n",
        "df_wide = melt(df, id = c(\"nome\", \"chuteira\"), na.rm = TRUE) #opção para remover valores NA\n",
        "df_wide\n",
        "# Removendo NA nem sempre é a solução para datasets pequenos\n",
        "# Interpolação de valores pode ser uma alternativa para manter valores (médios)"
      ],
      "execution_count": 44,
      "outputs": [
        {
          "output_type": "stream",
          "text": [
            "  nome chuteira variable value\n",
            "1 Zico       40    idade    34\n",
            "3 Zico       40     peso    93\n",
            "5 Zico       40   altura   175\n",
            "6 Pele       42   altura   178\n"
          ],
          "name": "stdout"
        }
      ]
    },
    {
      "cell_type": "markdown",
      "metadata": {
        "id": "1Rpl0OJn2Cz6",
        "colab_type": "text"
      },
      "source": [
        "#**dcast()** - colunas em linhas {reshape2}\n",
        "### Assim como podemos derreter com melt(), também podemos esticá-lo com dcast()"
      ]
    },
    {
      "cell_type": "code",
      "metadata": {
        "id": "upu6mYvdfHHx",
        "colab_type": "code",
        "colab": {
          "base_uri": "https://localhost:8080/",
          "height": 67
        },
        "outputId": "aba262f7-b186-42aa-ac0d-b8b62a9fe28c"
      },
      "source": [
        "%%R\n",
        "# \"Esticando\" o dataframe\n",
        "dcast(df_wide, formula = chuteira + nome ~ variable) #fórmula de chuteira + nome ao lado esquerdo e variable à direita\n"
      ],
      "execution_count": 47,
      "outputs": [
        {
          "output_type": "stream",
          "text": [
            "  chuteira nome idade peso altura\n",
            "1       40 Zico    34   93    175\n",
            "2       42 Pele    NA   NA    178\n"
          ],
          "name": "stdout"
        }
      ]
    },
    {
      "cell_type": "code",
      "metadata": {
        "id": "zYKnK5BQ21pt",
        "colab_type": "code",
        "colab": {
          "base_uri": "https://localhost:8080/",
          "height": 67
        },
        "outputId": "4080fcb6-10b1-426e-bab3-5a4d698f75c6"
      },
      "source": [
        "%%R\n",
        "dcast(df_wide, formula = nome + chuteira  ~ variable) #fórmula de nome + chuteira ao lado esquerdo e variable à direita"
      ],
      "execution_count": 48,
      "outputs": [
        {
          "output_type": "stream",
          "text": [
            "  nome chuteira idade peso altura\n",
            "1 Pele       42    NA   NA    178\n",
            "2 Zico       40    34   93    175\n"
          ],
          "name": "stdout"
        }
      ]
    },
    {
      "cell_type": "code",
      "metadata": {
        "id": "hgpRED3721-o",
        "colab_type": "code",
        "colab": {
          "base_uri": "https://localhost:8080/",
          "height": 67
        },
        "outputId": "0257bc6e-ebd5-4687-affb-6197eae46b04"
      },
      "source": [
        "%%R\n",
        "dcast(df_wide, formula = nome  ~ variable) #nome à esquerda de todas às variáveis"
      ],
      "execution_count": 49,
      "outputs": [
        {
          "output_type": "stream",
          "text": [
            "  nome idade peso altura\n",
            "1 Pele    NA   NA    178\n",
            "2 Zico    34   93    175\n"
          ],
          "name": "stdout"
        }
      ]
    },
    {
      "cell_type": "code",
      "metadata": {
        "id": "kASHj5Kl22O-",
        "colab_type": "code",
        "colab": {
          "base_uri": "https://localhost:8080/",
          "height": 67
        },
        "outputId": "5b55c92d-1181-4042-c115-8eb274fcc8c2"
      },
      "source": [
        "%%R\n",
        "dcast(df_wide, formula = ...  ~ variable)# indica todas as variáveis"
      ],
      "execution_count": 50,
      "outputs": [
        {
          "output_type": "stream",
          "text": [
            "  nome chuteira idade peso altura\n",
            "1 Pele       42    NA   NA    178\n",
            "2 Zico       40    34   93    175\n"
          ],
          "name": "stdout"
        }
      ]
    },
    {
      "cell_type": "markdown",
      "metadata": {
        "id": "1lVJBpRU3X0e",
        "colab_type": "text"
      },
      "source": [
        "---\n"
      ]
    },
    {
      "cell_type": "markdown",
      "metadata": {
        "id": "5yS7fpnu3jVv",
        "colab_type": "text"
      },
      "source": [
        "#**Reshape2** - Airquality"
      ]
    },
    {
      "cell_type": "code",
      "metadata": {
        "id": "NPf5znpxfGqc",
        "colab_type": "code",
        "colab": {}
      },
      "source": [
        "%%R\n",
        "names(airquality) <- tolower(names(airquality))\n"
      ],
      "execution_count": 0,
      "outputs": []
    },
    {
      "cell_type": "code",
      "metadata": {
        "id": "aWk4-zQG3xEl",
        "colab_type": "code",
        "colab": {
          "base_uri": "https://localhost:8080/",
          "height": 134
        },
        "outputId": "e11f81e5-289e-4c79-a48b-029fc9bd6ebe"
      },
      "source": [
        "%%R\n",
        "head(airquality)\n"
      ],
      "execution_count": 53,
      "outputs": [
        {
          "output_type": "stream",
          "text": [
            "  ozone solar.r wind temp month day\n",
            "1    41     190  7.4   67     5   1\n",
            "2    36     118  8.0   72     5   2\n",
            "3    12     149 12.6   74     5   3\n",
            "4    18     313 11.5   62     5   4\n",
            "5    NA      NA 14.3   56     5   5\n",
            "6    28      NA 14.9   66     5   6\n"
          ],
          "name": "stdout"
        }
      ]
    },
    {
      "cell_type": "code",
      "metadata": {
        "id": "L3o4cm5w3xWs",
        "colab_type": "code",
        "colab": {
          "base_uri": "https://localhost:8080/",
          "height": 34
        },
        "outputId": "5dcd2ef3-dd5f-42b1-bc0f-99aa56c41cb9"
      },
      "source": [
        "%%R\n",
        "dim(airquality)"
      ],
      "execution_count": 54,
      "outputs": [
        {
          "output_type": "stream",
          "text": [
            "[1] 153   6\n"
          ],
          "name": "stdout"
        }
      ]
    },
    {
      "cell_type": "markdown",
      "metadata": {
        "id": "FBQ-MdzD39Ix",
        "colab_type": "text"
      },
      "source": [
        "## Aplicando melt() - linhas em colunas"
      ]
    },
    {
      "cell_type": "code",
      "metadata": {
        "id": "GrDEt8yQfGn-",
        "colab_type": "code",
        "colab": {
          "base_uri": "https://localhost:8080/",
          "height": 50
        },
        "outputId": "505ebb47-297e-494e-a279-0a6184b78372"
      },
      "source": [
        "%%R\n",
        "# Função melt() - wide\n",
        "#?melt\n",
        "df_wide <- melt(airquality) \n",
        "# indica abaixo que não há variável ID, portanto usando demais variáveis como variávies"
      ],
      "execution_count": 56,
      "outputs": [
        {
          "output_type": "stream",
          "text": [
            "R[write to console]: No id variables; using all as measure variables\n",
            "\n"
          ],
          "name": "stderr"
        }
      ]
    },
    {
      "cell_type": "code",
      "metadata": {
        "id": "TArz8hcl4LJK",
        "colab_type": "code",
        "colab": {
          "base_uri": "https://localhost:8080/",
          "height": 34
        },
        "outputId": "2648dbdd-08ce-4e34-a611-23131f42bced"
      },
      "source": [
        "%%R\n",
        "  class(df_wide)\n"
      ],
      "execution_count": 57,
      "outputs": [
        {
          "output_type": "stream",
          "text": [
            "[1] \"data.frame\"\n"
          ],
          "name": "stdout"
        }
      ]
    },
    {
      "cell_type": "code",
      "metadata": {
        "id": "ALfsjqCo4K_R",
        "colab_type": "code",
        "colab": {
          "base_uri": "https://localhost:8080/",
          "height": 134
        },
        "outputId": "904c6a32-fbb6-461d-ccda-e5a71a9b2199"
      },
      "source": [
        "%%R\n",
        "  head(df_wide)"
      ],
      "execution_count": 59,
      "outputs": [
        {
          "output_type": "stream",
          "text": [
            "  variable value\n",
            "1    ozone    41\n",
            "2    ozone    36\n",
            "3    ozone    12\n",
            "4    ozone    18\n",
            "5    ozone    NA\n",
            "6    ozone    28\n"
          ],
          "name": "stdout"
        }
      ]
    },
    {
      "cell_type": "code",
      "metadata": {
        "id": "4GJGz2co4Kv5",
        "colab_type": "code",
        "colab": {
          "base_uri": "https://localhost:8080/",
          "height": 134
        },
        "outputId": "2d209e03-af78-4c36-9b39-3c0956bd9abb"
      },
      "source": [
        "%%R\n",
        "  tail(df_wide)"
      ],
      "execution_count": 60,
      "outputs": [
        {
          "output_type": "stream",
          "text": [
            "    variable value\n",
            "913      day    25\n",
            "914      day    26\n",
            "915      day    27\n",
            "916      day    28\n",
            "917      day    29\n",
            "918      day    30\n"
          ],
          "name": "stdout"
        }
      ]
    },
    {
      "cell_type": "markdown",
      "metadata": {
        "id": "wFDCRi-e4_kU",
        "colab_type": "text"
      },
      "source": [
        "---"
      ]
    },
    {
      "cell_type": "markdown",
      "metadata": {
        "id": "464o155_5DP5",
        "colab_type": "text"
      },
      "source": [
        "#**Incluindo mais variáveis ao DataFrame**\n",
        "### Passando vetor de variáveis como rótulo"
      ]
    },
    {
      "cell_type": "code",
      "metadata": {
        "id": "PnFjJuDRfGg6",
        "colab_type": "code",
        "colab": {
          "base_uri": "https://localhost:8080/",
          "height": 134
        },
        "outputId": "2c10dc9f-223a-462e-de05-eb8bedb24e21"
      },
      "source": [
        "%%R\n",
        "# Inserindo mais duas variáveis\n",
        "df_wide <- melt(airquality, id.vars = c(\"month\", \"day\")) #vetor de variáveis\n",
        "head(df_wide)\n",
        "\n"
      ],
      "execution_count": 61,
      "outputs": [
        {
          "output_type": "stream",
          "text": [
            "  month day variable value\n",
            "1     5   1    ozone    41\n",
            "2     5   2    ozone    36\n",
            "3     5   3    ozone    12\n",
            "4     5   4    ozone    18\n",
            "5     5   5    ozone    NA\n",
            "6     5   6    ozone    28\n"
          ],
          "name": "stdout"
        }
      ]
    },
    {
      "cell_type": "code",
      "metadata": {
        "id": "G404809c5hSn",
        "colab_type": "code",
        "colab": {
          "base_uri": "https://localhost:8080/",
          "height": 134
        },
        "outputId": "9e291628-ba50-40d2-d7c1-a6c019115ab8"
      },
      "source": [
        "%%R \n",
        "#airquality original para comparação\n",
        "head(airquality)"
      ],
      "execution_count": 62,
      "outputs": [
        {
          "output_type": "stream",
          "text": [
            "  ozone solar.r wind temp month day\n",
            "1    41     190  7.4   67     5   1\n",
            "2    36     118  8.0   72     5   2\n",
            "3    12     149 12.6   74     5   3\n",
            "4    18     313 11.5   62     5   4\n",
            "5    NA      NA 14.3   56     5   5\n",
            "6    28      NA 14.9   66     5   6\n"
          ],
          "name": "stdout"
        }
      ]
    },
    {
      "cell_type": "markdown",
      "metadata": {
        "id": "YpnXp0CO6AWx",
        "colab_type": "text"
      },
      "source": [
        "---"
      ]
    },
    {
      "cell_type": "markdown",
      "metadata": {
        "id": "8Yzmwzfi6Bc8",
        "colab_type": "text"
      },
      "source": [
        "#**Principais diferenças entre melt() X dcast()**"
      ]
    },
    {
      "cell_type": "code",
      "metadata": {
        "id": "x3dFhD005SyR",
        "colab_type": "code",
        "colab": {
          "base_uri": "https://localhost:8080/",
          "height": 134
        },
        "outputId": "d64a54b5-614c-4983-b1ac-c9ae5e7747a9"
      },
      "source": [
        "%%R\n",
        "df_wide <- melt(airquality, id.vars = c(\"month\", \"day\"),\n",
        "            variable.name = \"climate_variable\", \n",
        "            value.name = \"climate_value\")\n",
        "\n",
        "head(df_wide)\n"
      ],
      "execution_count": 63,
      "outputs": [
        {
          "output_type": "stream",
          "text": [
            "  month day climate_variable climate_value\n",
            "1     5   1            ozone            41\n",
            "2     5   2            ozone            36\n",
            "3     5   3            ozone            12\n",
            "4     5   4            ozone            18\n",
            "5     5   5            ozone            NA\n",
            "6     5   6            ozone            28\n"
          ],
          "name": "stdout"
        }
      ]
    },
    {
      "cell_type": "code",
      "metadata": {
        "id": "oqY6mDiefGac",
        "colab_type": "code",
        "colab": {
          "base_uri": "https://localhost:8080/",
          "height": 134
        },
        "outputId": "1ffa3a8c-117f-439a-b9a0-ceabb99601cf"
      },
      "source": [
        "%%R \n",
        "#melt()\n",
        "df_wide <- melt(airquality, id.vars = c(\"month\", \"day\"))\n",
        "head(df_wide)"
      ],
      "execution_count": 65,
      "outputs": [
        {
          "output_type": "stream",
          "text": [
            "  month day variable value\n",
            "1     5   1    ozone    41\n",
            "2     5   2    ozone    36\n",
            "3     5   3    ozone    12\n",
            "4     5   4    ozone    18\n",
            "5     5   5    ozone    NA\n",
            "6     5   6    ozone    28\n"
          ],
          "name": "stdout"
        }
      ]
    },
    {
      "cell_type": "markdown",
      "metadata": {
        "id": "CWXYrlcT7DPz",
        "colab_type": "text"
      },
      "source": [
        "##Variáveis abaixo identificadas de maneira única"
      ]
    },
    {
      "cell_type": "code",
      "metadata": {
        "id": "h65iTOt36jsd",
        "colab_type": "code",
        "colab": {
          "base_uri": "https://localhost:8080/",
          "height": 134
        },
        "outputId": "c7d49a00-fa74-4f4f-ed97-cfaadf6cbb1d"
      },
      "source": [
        "%%R \n",
        "#dcast()\n",
        "# mais colunas, mais esticado de modo que tenhamos as variáveis totalmente identificadas\n",
        "df_long <- dcast(df_wide, month + day ~ variable)\n",
        "head(airquality)"
      ],
      "execution_count": 66,
      "outputs": [
        {
          "output_type": "stream",
          "text": [
            "  ozone solar.r wind temp month day\n",
            "1    41     190  7.4   67     5   1\n",
            "2    36     118  8.0   72     5   2\n",
            "3    12     149 12.6   74     5   3\n",
            "4    18     313 11.5   62     5   4\n",
            "5    NA      NA 14.3   56     5   5\n",
            "6    28      NA 14.9   66     5   6\n"
          ],
          "name": "stdout"
        }
      ]
    }
  ]
}