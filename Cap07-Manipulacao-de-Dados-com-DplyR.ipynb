{
  "nbformat": 4,
  "nbformat_minor": 0,
  "metadata": {
    "colab": {
      "name": "Manipulacao-de-Dados-com-R.ipynb",
      "provenance": [],
      "collapsed_sections": []
    },
    "kernelspec": {
      "name": "python3",
      "display_name": "Python 3"
    },
    "accelerator": "GPU"
  },
  "cells": [
    {
      "cell_type": "code",
      "metadata": {
        "id": "2h-2I4CviFCR",
        "colab_type": "code",
        "outputId": "438fbc79-2cdf-4913-90e1-69935b4426a2",
        "colab": {
          "base_uri": "https://localhost:8080/",
          "height": 104
        }
      },
      "source": [
        "# activate R magic\n",
        "%load_ext rpy2.ipython"
      ],
      "execution_count": 1,
      "outputs": [
        {
          "output_type": "stream",
          "text": [
            "/usr/local/lib/python3.6/dist-packages/rpy2/robjects/pandas2ri.py:14: FutureWarning: pandas.core.index is deprecated and will be removed in a future version.  The public classes are available in the top-level namespace.\n",
            "  from pandas.core.index import Index as PandasIndex\n",
            "/usr/local/lib/python3.6/dist-packages/rpy2/robjects/pandas2ri.py:34: UserWarning: pandas >= 1.0 is not supported.\n",
            "  warnings.warn('pandas >= 1.0 is not supported.')\n"
          ],
          "name": "stderr"
        }
      ]
    },
    {
      "cell_type": "markdown",
      "metadata": {
        "id": "dtkChhxpiWEd",
        "colab_type": "text"
      },
      "source": [
        "%%R\n",
        "#**Manipulação de Dados com R** \n",
        "[link text](https://)\n",
        "\n"
      ]
    },
    {
      "cell_type": "markdown",
      "metadata": {
        "id": "SQ7FqxHo94I5",
        "colab_type": "text"
      },
      "source": [
        "**tidyr** - Remodelagem de Dados, **Formatação dos dados**. Com apenas uma função, somos capazes de mudar completamente o formato (shape) dos nossos dados e isso pode fazer muita diferença no processo de análise. \n",
        "\n",
        "- gather( )  -    tudo que é linha vira coluna\n",
        "- spread( )  -    tudo que é coluna vira linha\n",
        "- separate( ) -  separar coluna coluna data em dia | mês | ano\n",
        "- unite( ) - unir dados em uma única coluna\n"
      ]
    },
    {
      "cell_type": "markdown",
      "metadata": {
        "id": "GL4C6gud94CB",
        "colab_type": "text"
      },
      "source": [
        "dplyr - Criado para complementar o que é feito com a linguagem SQL. A forma de pensar em termos de dados é a mesma. \n",
        "\n",
        "- select( ) - selecionar parte dos dados do conjunto\n",
        "- filter( ) - filtro e aplico regras \n",
        "- group_by( ) - agrupar dados \n",
        "- summarise( ) - sumarizar e resumir os dados\n",
        "- arrange( ) - reorganizar as linhas em uma coluna ou mais\n",
        "- join( ) - unir dois ou mais datasets\n",
        "- mutate( ) - realizar cálculos dentro de uma mesma coluna"
      ]
    },
    {
      "cell_type": "markdown",
      "metadata": {
        "id": "e9LawpdlRsqB",
        "colab_type": "text"
      },
      "source": [
        "---"
      ]
    },
    {
      "cell_type": "markdown",
      "metadata": {
        "id": "H0wA38-qIhZj",
        "colab_type": "text"
      },
      "source": [
        "#Limpeza, Formatação e Manipulação de Dados em R \n",
        "#**dplyr - Transformação de Dados**"
      ]
    },
    {
      "cell_type": "markdown",
      "metadata": {
        "id": "0-6-K2ovRzqy",
        "colab_type": "text"
      },
      "source": [
        ""
      ]
    },
    {
      "cell_type": "code",
      "metadata": {
        "id": "D_asKHU5InrK",
        "colab_type": "code",
        "colab": {
          "base_uri": "https://localhost:8080/",
          "height": 1000
        },
        "outputId": "e3393cba-6555-4fd2-e7fd-7ec2991627f5"
      },
      "source": [
        "%%R\n",
        "# Instalando os pacotes\n",
        "install.packages(\"readr\")\n",
        "install.packages(\"dplyr\")\n",
        "library(readr)\n",
        "library(dplyr)"
      ],
      "execution_count": 2,
      "outputs": [
        {
          "output_type": "stream",
          "text": [
            "R[write to console]: Installing package into ‘/usr/local/lib/R/site-library’\n",
            "(as ‘lib’ is unspecified)\n",
            "\n",
            "R[write to console]: trying URL 'https://cran.rstudio.com/src/contrib/readr_1.3.1.tar.gz'\n",
            "\n",
            "R[write to console]: Content type 'application/x-gzip'\n",
            "R[write to console]:  length 268853 bytes (262 KB)\n",
            "\n",
            "R[write to console]: =\n",
            "R[write to console]: =\n",
            "R[write to console]: =\n",
            "R[write to console]: =\n",
            "R[write to console]: =\n",
            "R[write to console]: =\n",
            "R[write to console]: =\n",
            "R[write to console]: =\n",
            "R[write to console]: =\n",
            "R[write to console]: =\n",
            "R[write to console]: =\n",
            "R[write to console]: =\n",
            "R[write to console]: =\n",
            "R[write to console]: =\n",
            "R[write to console]: =\n",
            "R[write to console]: =\n",
            "R[write to console]: =\n",
            "R[write to console]: =\n",
            "R[write to console]: =\n",
            "R[write to console]: =\n",
            "R[write to console]: =\n",
            "R[write to console]: =\n",
            "R[write to console]: =\n",
            "R[write to console]: =\n",
            "R[write to console]: =\n",
            "R[write to console]: =\n",
            "R[write to console]: =\n",
            "R[write to console]: =\n",
            "R[write to console]: =\n",
            "R[write to console]: =\n",
            "R[write to console]: =\n",
            "R[write to console]: =\n",
            "R[write to console]: =\n",
            "R[write to console]: =\n",
            "R[write to console]: =\n",
            "R[write to console]: =\n",
            "R[write to console]: =\n",
            "R[write to console]: =\n",
            "R[write to console]: =\n",
            "R[write to console]: =\n",
            "R[write to console]: =\n",
            "R[write to console]: =\n",
            "R[write to console]: =\n",
            "R[write to console]: =\n",
            "R[write to console]: =\n",
            "R[write to console]: =\n",
            "R[write to console]: =\n",
            "R[write to console]: =\n",
            "R[write to console]: =\n",
            "R[write to console]: =\n",
            "R[write to console]: \n",
            "\n",
            "R[write to console]: downloaded 262 KB\n",
            "\n",
            "\n",
            "R[write to console]: \n",
            "\n",
            "R[write to console]: \n",
            "R[write to console]: The downloaded source packages are in\n",
            "\t‘/tmp/Rtmpp7VVo8/downloaded_packages’\n",
            "R[write to console]: \n",
            "R[write to console]: \n",
            "\n",
            "R[write to console]: Installing package into ‘/usr/local/lib/R/site-library’\n",
            "(as ‘lib’ is unspecified)\n",
            "\n",
            "R[write to console]: trying URL 'https://cran.rstudio.com/src/contrib/dplyr_0.8.5.tar.gz'\n",
            "\n",
            "R[write to console]: Content type 'application/x-gzip'\n",
            "R[write to console]:  length 1378766 bytes (1.3 MB)\n",
            "\n",
            "R[write to console]: =\n",
            "R[write to console]: =\n",
            "R[write to console]: =\n",
            "R[write to console]: =\n",
            "R[write to console]: =\n",
            "R[write to console]: =\n",
            "R[write to console]: =\n",
            "R[write to console]: =\n",
            "R[write to console]: =\n",
            "R[write to console]: =\n",
            "R[write to console]: =\n",
            "R[write to console]: =\n",
            "R[write to console]: =\n",
            "R[write to console]: =\n",
            "R[write to console]: =\n",
            "R[write to console]: =\n",
            "R[write to console]: =\n",
            "R[write to console]: =\n",
            "R[write to console]: =\n",
            "R[write to console]: =\n",
            "R[write to console]: =\n",
            "R[write to console]: =\n",
            "R[write to console]: =\n",
            "R[write to console]: =\n",
            "R[write to console]: =\n",
            "R[write to console]: =\n",
            "R[write to console]: =\n",
            "R[write to console]: =\n",
            "R[write to console]: =\n",
            "R[write to console]: =\n",
            "R[write to console]: =\n",
            "R[write to console]: =\n",
            "R[write to console]: =\n",
            "R[write to console]: =\n",
            "R[write to console]: =\n",
            "R[write to console]: =\n",
            "R[write to console]: =\n",
            "R[write to console]: =\n",
            "R[write to console]: =\n",
            "R[write to console]: =\n",
            "R[write to console]: =\n",
            "R[write to console]: =\n",
            "R[write to console]: =\n",
            "R[write to console]: =\n",
            "R[write to console]: =\n",
            "R[write to console]: =\n",
            "R[write to console]: =\n",
            "R[write to console]: =\n",
            "R[write to console]: =\n",
            "R[write to console]: =\n",
            "R[write to console]: \n",
            "\n",
            "R[write to console]: downloaded 1.3 MB\n",
            "\n",
            "\n",
            "R[write to console]: \n",
            "\n",
            "R[write to console]: \n",
            "R[write to console]: The downloaded source packages are in\n",
            "\t‘/tmp/Rtmpp7VVo8/downloaded_packages’\n",
            "R[write to console]: \n",
            "R[write to console]: \n",
            "\n",
            "R[write to console]: \n",
            "Attaching package: ‘dplyr’\n",
            "\n",
            "\n",
            "R[write to console]: The following objects are masked from ‘package:stats’:\n",
            "\n",
            "    filter, lag\n",
            "\n",
            "\n",
            "R[write to console]: The following objects are masked from ‘package:base’:\n",
            "\n",
            "    intersect, setdiff, setequal, union\n",
            "\n",
            "\n"
          ],
          "name": "stderr"
        }
      ]
    },
    {
      "cell_type": "code",
      "metadata": {
        "id": "t8-yfSYtIyJr",
        "colab_type": "code",
        "colab": {
          "base_uri": "https://localhost:8080/",
          "height": 104
        },
        "outputId": "6404dca3-e575-47f9-f949-2bfe4227be2b"
      },
      "source": [
        "%%R\n",
        "# Carregando o dataset\n",
        "sono_df <- read_csv(\"sono.csv\")\n",
        "View(sono_df)\n",
        "head(sono_df)\n",
        "class(sono_df)\n",
        "str(sono_df)"
      ],
      "execution_count": 3,
      "outputs": [
        {
          "output_type": "stream",
          "text": [
            "R[write to console]: Error: 'sono.csv' does not exist in current working directory ('/content').\n",
            "\n"
          ],
          "name": "stderr"
        },
        {
          "output_type": "stream",
          "text": [
            "\n",
            "Error: 'sono.csv' does not exist in current working directory ('/content').\n"
          ],
          "name": "stdout"
        }
      ]
    },
    {
      "cell_type": "code",
      "metadata": {
        "id": "wZoIj_cgLAcH",
        "colab_type": "code",
        "outputId": "32452c04-1f61-4a8f-ff94-d0b30c86eed3",
        "colab": {
          "base_uri": "https://localhost:8080/",
          "height": 104
        }
      },
      "source": [
        "%%R\n",
        "# Carregando o dataset e retornando o resumo dos dados carregados e seus tipos\n",
        "# read_csv ao importar já formata o dataset em \"tibble\"\n",
        "sono_df <- read_csv(\"sono.csv\")"
      ],
      "execution_count": 4,
      "outputs": [
        {
          "output_type": "stream",
          "text": [
            "R[write to console]: Error: 'sono.csv' does not exist in current working directory ('/content').\n",
            "\n"
          ],
          "name": "stderr"
        },
        {
          "output_type": "stream",
          "text": [
            "\n",
            "Error: 'sono.csv' does not exist in current working directory ('/content').\n"
          ],
          "name": "stdout"
        }
      ]
    },
    {
      "cell_type": "code",
      "metadata": {
        "id": "Y-0T1uJFLFn-",
        "colab_type": "code",
        "outputId": "219d878a-3c05-4d7b-c3d3-7579b769b5ff",
        "colab": {
          "base_uri": "https://localhost:8080/",
          "height": 118
        }
      },
      "source": [
        "%%R \n",
        "head(sono_df)"
      ],
      "execution_count": 5,
      "outputs": [
        {
          "output_type": "stream",
          "text": [
            "R[write to console]: Error in head(sono_df) : object 'sono_df' not found\n",
            "Calls: <Anonymous> -> <Anonymous> -> withVisible -> head\n",
            "\n"
          ],
          "name": "stderr"
        },
        {
          "output_type": "stream",
          "text": [
            "\n",
            "Error in head(sono_df) : object 'sono_df' not found\n",
            "Calls: <Anonymous> -> <Anonymous> -> withVisible -> head\n"
          ],
          "name": "stdout"
        }
      ]
    },
    {
      "cell_type": "code",
      "metadata": {
        "id": "_8HOl0poLFsH",
        "colab_type": "code",
        "outputId": "f07ca591-9530-4c70-9348-86331a64074a",
        "colab": {
          "base_uri": "https://localhost:8080/",
          "height": 118
        }
      },
      "source": [
        "%%R\n",
        "class(sono_df)"
      ],
      "execution_count": 6,
      "outputs": [
        {
          "output_type": "stream",
          "text": [
            "R[write to console]: Error in withVisible({ : object 'sono_df' not found\n",
            "Calls: <Anonymous> -> <Anonymous> -> withVisible\n",
            "\n"
          ],
          "name": "stderr"
        },
        {
          "output_type": "stream",
          "text": [
            "\n",
            "Error in withVisible({ : object 'sono_df' not found\n",
            "Calls: <Anonymous> -> <Anonymous> -> withVisible\n"
          ],
          "name": "stdout"
        }
      ]
    },
    {
      "cell_type": "code",
      "metadata": {
        "id": "K448UCFJLFu-",
        "colab_type": "code",
        "colab": {
          "base_uri": "https://localhost:8080/",
          "height": 118
        },
        "outputId": "b95e448d-7fa6-419e-ec2e-e3da3aebb554"
      },
      "source": [
        "%%R\n",
        "str(sono_df)"
      ],
      "execution_count": 7,
      "outputs": [
        {
          "output_type": "stream",
          "text": [
            "R[write to console]: Error in str(sono_df) : object 'sono_df' not found\n",
            "Calls: <Anonymous> -> <Anonymous> -> withVisible -> str\n",
            "\n"
          ],
          "name": "stderr"
        },
        {
          "output_type": "stream",
          "text": [
            "\n",
            "Error in str(sono_df) : object 'sono_df' not found\n",
            "Calls: <Anonymous> -> <Anonymous> -> withVisible -> str\n"
          ],
          "name": "stdout"
        }
      ]
    },
    {
      "cell_type": "code",
      "metadata": {
        "id": "O72i6jZCKMo1",
        "colab_type": "code",
        "outputId": "44ffafaf-7cd8-49f3-bffb-f6cfe696e8d5",
        "colab": {
          "base_uri": "https://localhost:8080/",
          "height": 118
        }
      },
      "source": [
        "%%R\n",
        "# Função glimpse() pode ser usada no lugar da função str()\n",
        "# Imprime já no formato do objeto tbldf ('dataframe')\n",
        "glimpse(sono_df)"
      ],
      "execution_count": 8,
      "outputs": [
        {
          "output_type": "stream",
          "text": [
            "R[write to console]: Error in glimpse(sono_df) : object 'sono_df' not found\n",
            "Calls: <Anonymous> -> <Anonymous> -> withVisible -> glimpse\n",
            "\n"
          ],
          "name": "stderr"
        },
        {
          "output_type": "stream",
          "text": [
            "\n",
            "Error in glimpse(sono_df) : object 'sono_df' not found\n",
            "Calls: <Anonymous> -> <Anonymous> -> withVisible -> glimpse\n"
          ],
          "name": "stdout"
        }
      ]
    },
    {
      "cell_type": "markdown",
      "metadata": {
        "id": "_COwmFDTNwBl",
        "colab_type": "text"
      },
      "source": [
        "v"
      ]
    },
    {
      "cell_type": "code",
      "metadata": {
        "id": "1kYIZERiKXff",
        "colab_type": "code",
        "outputId": "2f02fe8a-2647-4dfa-d8d6-89efdcd84a17",
        "colab": {
          "base_uri": "https://localhost:8080/",
          "height": 171
        }
      },
      "source": [
        "%%R\n",
        "# Aplicando mutate junto a glimpse\n",
        "# A função glimpse pega o dataframe, aplica uma nova coluna com uma operação através do mutate\n",
        "glimpse(mutate(sono_df, peso_libras = sono_total / 0.45359237))\n"
      ],
      "execution_count": 9,
      "outputs": [
        {
          "output_type": "stream",
          "text": [
            "R[write to console]: Error in mutate(sono_df, peso_libras = sono_total/0.45359237) : \n",
            "  object 'sono_df' not found\n",
            "Calls: <Anonymous> -> <Anonymous> -> withVisible -> glimpse -> mutate\n",
            "\n"
          ],
          "name": "stderr"
        },
        {
          "output_type": "stream",
          "text": [
            "\n",
            "Error in mutate(sono_df, peso_libras = sono_total/0.45359237) : \n",
            "  object 'sono_df' not found\n",
            "Calls: <Anonymous> -> <Anonymous> -> withVisible -> glimpse -> mutate\n"
          ],
          "name": "stdout"
        }
      ]
    },
    {
      "cell_type": "markdown",
      "metadata": {
        "id": "WkwEjAjNX74K",
        "colab_type": "text"
      },
      "source": [
        ""
      ]
    },
    {
      "cell_type": "code",
      "metadata": {
        "id": "Qy_AlBiCKXjE",
        "colab_type": "code",
        "outputId": "2329950c-8401-46ea-e87e-e19d02629c01",
        "colab": {
          "base_uri": "https://localhost:8080/",
          "height": 118
        }
      },
      "source": [
        "%%R\n",
        "count(sono_df, cidade) # contagem de quantos registros por cidade\n"
      ],
      "execution_count": 10,
      "outputs": [
        {
          "output_type": "stream",
          "text": [
            "R[write to console]: Error in group_vars(x) : object 'sono_df' not found\n",
            "Calls: <Anonymous> -> <Anonymous> -> withVisible -> count -> group_vars\n",
            "\n"
          ],
          "name": "stderr"
        },
        {
          "output_type": "stream",
          "text": [
            "\n",
            "Error in group_vars(x) : object 'sono_df' not found\n",
            "Calls: <Anonymous> -> <Anonymous> -> withVisible -> count -> group_vars\n"
          ],
          "name": "stdout"
        }
      ]
    },
    {
      "cell_type": "code",
      "metadata": {
        "id": "C8yD2U2xKXpi",
        "colab_type": "code",
        "outputId": "79dd36c9-28a5-4d71-ec33-daa105cd0107",
        "colab": {
          "base_uri": "https://localhost:8080/",
          "height": 118
        }
      },
      "source": [
        "%%R \n",
        "hist(sono_df$sono_total)"
      ],
      "execution_count": 11,
      "outputs": [
        {
          "output_type": "stream",
          "text": [
            "R[write to console]: Error in hist(sono_df$sono_total) : object 'sono_df' not found\n",
            "Calls: <Anonymous> -> <Anonymous> -> withVisible -> hist\n",
            "\n"
          ],
          "name": "stderr"
        },
        {
          "output_type": "stream",
          "text": [
            "\n",
            "Error in hist(sono_df$sono_total) : object 'sono_df' not found\n",
            "Calls: <Anonymous> -> <Anonymous> -> withVisible -> hist\n"
          ],
          "name": "stdout"
        }
      ]
    },
    {
      "cell_type": "code",
      "metadata": {
        "id": "Zuk5jpfXKXmN",
        "colab_type": "code",
        "outputId": "5e7f6951-10d6-4ec7-f8a8-8d1be7126e53",
        "colab": {
          "base_uri": "https://localhost:8080/",
          "height": 138
        }
      },
      "source": [
        "%%R\n",
        "# Amostragem de tamanho 10 a partir do dataset original\n",
        "sample_n(sono_df, size = 10)\n"
      ],
      "execution_count": 12,
      "outputs": [
        {
          "output_type": "stream",
          "text": [
            "R[write to console]: Error in sample_n(sono_df, size = 10) : object 'sono_df' not found\n",
            "Calls: <Anonymous> -> <Anonymous> -> withVisible -> sample_n\n",
            "\n"
          ],
          "name": "stderr"
        },
        {
          "output_type": "stream",
          "text": [
            "\n",
            "Error in sample_n(sono_df, size = 10) : object 'sono_df' not found\n",
            "Calls: <Anonymous> -> <Anonymous> -> withVisible -> sample_n\n"
          ],
          "name": "stdout"
        }
      ]
    },
    {
      "cell_type": "markdown",
      "metadata": {
        "id": "a-hnLe92X2OJ",
        "colab_type": "text"
      },
      "source": [
        "---"
      ]
    },
    {
      "cell_type": "markdown",
      "metadata": {
        "id": "L3-Y9uACPXl8",
        "colab_type": "text"
      },
      "source": [
        "#**Select()**  - {dplyr}"
      ]
    },
    {
      "cell_type": "code",
      "metadata": {
        "id": "ac39LBtRKXvH",
        "colab_type": "code",
        "outputId": "eef3446b-5f7b-4b38-ddd3-8c1574e64994",
        "colab": {
          "base_uri": "https://localhost:8080/",
          "height": 138
        }
      },
      "source": [
        "%%R \n",
        "# select()\n",
        "sleepData <- select(sono_df, nome, sono_total) #selecionando nome, sono_total e atribuir a sleepData\n",
        "head(sleepData)\n",
        "class(sleepData)\n",
        "select(sono_df, nome)\n",
        "select(sono_df, nome:cidade)\n",
        "select(sono_df, nome:pais) # retornar um range de colunas, a partir de nome até país. "
      ],
      "execution_count": 13,
      "outputs": [
        {
          "output_type": "stream",
          "text": [
            "R[write to console]: Error in select(sono_df, nome, sono_total) : object 'sono_df' not found\n",
            "Calls: <Anonymous> -> <Anonymous> -> withVisible -> select\n",
            "\n"
          ],
          "name": "stderr"
        },
        {
          "output_type": "stream",
          "text": [
            "\n",
            "Error in select(sono_df, nome, sono_total) : object 'sono_df' not found\n",
            "Calls: <Anonymous> -> <Anonymous> -> withVisible -> select\n"
          ],
          "name": "stdout"
        }
      ]
    },
    {
      "cell_type": "markdown",
      "metadata": {
        "id": "KvhNDXD3X1Mq",
        "colab_type": "text"
      },
      "source": [
        "---"
      ]
    },
    {
      "cell_type": "markdown",
      "metadata": {
        "id": "ZHKCu8jqPmKF",
        "colab_type": "text"
      },
      "source": [
        "#**Filter()**  - {dplyr}"
      ]
    },
    {
      "cell_type": "code",
      "metadata": {
        "id": "BMW9nbWHKX48",
        "colab_type": "code",
        "outputId": "e58e2a18-e331-4691-f184-ef4100396894",
        "colab": {
          "base_uri": "https://localhost:8080/",
          "height": 138
        }
      },
      "source": [
        "%%R\n",
        "filter(sono_df, sono_total >= 16)"
      ],
      "execution_count": 14,
      "outputs": [
        {
          "output_type": "stream",
          "text": [
            "R[write to console]: Error in filter(sono_df, sono_total >= 16) : object 'sono_df' not found\n",
            "Calls: <Anonymous> -> <Anonymous> -> withVisible -> filter\n",
            "\n"
          ],
          "name": "stderr"
        },
        {
          "output_type": "stream",
          "text": [
            "\n",
            "Error in filter(sono_df, sono_total >= 16) : object 'sono_df' not found\n",
            "Calls: <Anonymous> -> <Anonymous> -> withVisible -> filter\n"
          ],
          "name": "stdout"
        }
      ]
    },
    {
      "cell_type": "code",
      "metadata": {
        "id": "3uDSiravQEJL",
        "colab_type": "code",
        "outputId": "388a8a28-6cca-4fc4-8816-c6569e4ef5dc",
        "colab": {
          "base_uri": "https://localhost:8080/",
          "height": 151
        }
      },
      "source": [
        "%%R\n",
        "filter(sono_df, sono_total >= 16, peso >= 80)"
      ],
      "execution_count": 15,
      "outputs": [
        {
          "output_type": "stream",
          "text": [
            "R[write to console]: Error in filter(sono_df, sono_total >= 16, peso >= 80) : \n",
            "  object 'sono_df' not found\n",
            "Calls: <Anonymous> -> <Anonymous> -> withVisible -> filter\n",
            "\n"
          ],
          "name": "stderr"
        },
        {
          "output_type": "stream",
          "text": [
            "\n",
            "Error in filter(sono_df, sono_total >= 16, peso >= 80) : \n",
            "  object 'sono_df' not found\n",
            "Calls: <Anonymous> -> <Anonymous> -> withVisible -> filter\n"
          ],
          "name": "stdout"
        }
      ]
    },
    {
      "cell_type": "code",
      "metadata": {
        "id": "nQQ64PjXQEMS",
        "colab_type": "code",
        "outputId": "f94ac675-735d-4c75-aac0-1bb6e1bce89d",
        "colab": {
          "base_uri": "https://localhost:8080/",
          "height": 171
        }
      },
      "source": [
        "%%R\n",
        "filter(sono_df, cidade %in% c(\"Recife\", \"Curitiba\"))\n",
        "#pesquisar em cidade apenas valores Recife e Curitiba\n",
        "#aplicando SQL em R"
      ],
      "execution_count": 16,
      "outputs": [
        {
          "output_type": "stream",
          "text": [
            "R[write to console]: Error in filter(sono_df, cidade %in% c(\"Recife\", \"Curitiba\")) : \n",
            "  object 'sono_df' not found\n",
            "Calls: <Anonymous> -> <Anonymous> -> withVisible -> filter\n",
            "\n"
          ],
          "name": "stderr"
        },
        {
          "output_type": "stream",
          "text": [
            "\n",
            "Error in filter(sono_df, cidade %in% c(\"Recife\", \"Curitiba\")) : \n",
            "  object 'sono_df' not found\n",
            "Calls: <Anonymous> -> <Anonymous> -> withVisible -> filter\n"
          ],
          "name": "stdout"
        }
      ]
    },
    {
      "cell_type": "markdown",
      "metadata": {
        "id": "akzjFb13Xz7E",
        "colab_type": "text"
      },
      "source": [
        "---"
      ]
    },
    {
      "cell_type": "markdown",
      "metadata": {
        "id": "SpAULrISQZAA",
        "colab_type": "text"
      },
      "source": [
        "#**Arrange()** - {dplyr}"
      ]
    },
    {
      "cell_type": "code",
      "metadata": {
        "id": "yURHE1d7Qc9n",
        "colab_type": "code",
        "outputId": "1dbd2779-0874-4386-ab18-77648263164d",
        "colab": {
          "base_uri": "https://localhost:8080/",
          "height": 138
        }
      },
      "source": [
        "%%R\n",
        "#arrange()\n",
        "sono_df %>% #operador de concatenação de operações\n",
        "arrange(cidade) %>% head"
      ],
      "execution_count": 17,
      "outputs": [
        {
          "output_type": "stream",
          "text": [
            "R[write to console]: Error in eval(lhs, parent, parent) : object 'sono_df' not found\n",
            "Calls: <Anonymous> -> <Anonymous> -> withVisible -> %>% -> eval -> eval\n",
            "\n"
          ],
          "name": "stderr"
        },
        {
          "output_type": "stream",
          "text": [
            "\n",
            "Error in eval(lhs, parent, parent) : object 'sono_df' not found\n",
            "Calls: <Anonymous> -> <Anonymous> -> withVisible -> %>% -> eval -> eval\n"
          ],
          "name": "stdout"
        }
      ]
    },
    {
      "cell_type": "code",
      "metadata": {
        "id": "e40zWZfSQm3G",
        "colab_type": "code",
        "outputId": "190189b4-2653-4972-ba6e-d1f3aa37decc",
        "colab": {
          "base_uri": "https://localhost:8080/",
          "height": 138
        }
      },
      "source": [
        "%%R\n",
        "sono_df %>% \n",
        "  select(nome, cidade, sono_total) %>% #select\n",
        "  arrange(cidade, sono_total) %>% #arrange\n",
        "  head #head"
      ],
      "execution_count": 18,
      "outputs": [
        {
          "output_type": "stream",
          "text": [
            "R[write to console]: Error in eval(lhs, parent, parent) : object 'sono_df' not found\n",
            "Calls: <Anonymous> -> <Anonymous> -> withVisible -> %>% -> eval -> eval\n",
            "\n"
          ],
          "name": "stderr"
        },
        {
          "output_type": "stream",
          "text": [
            "\n",
            "Error in eval(lhs, parent, parent) : object 'sono_df' not found\n",
            "Calls: <Anonymous> -> <Anonymous> -> withVisible -> %>% -> eval -> eval\n"
          ],
          "name": "stdout"
        }
      ]
    },
    {
      "cell_type": "code",
      "metadata": {
        "id": "1G9lwFpkQm60",
        "colab_type": "code",
        "outputId": "b15826f7-f790-4a22-bf32-5182c5d06df0",
        "colab": {
          "base_uri": "https://localhost:8080/",
          "height": 138
        }
      },
      "source": [
        "%%R\n",
        "sono_df %>% \n",
        "  select(nome, cidade, sono_total) %>% #select\n",
        "  arrange(cidade, sono_total) %>% #arrange\n",
        "  filter(sono_total >= 16) #filter"
      ],
      "execution_count": 19,
      "outputs": [
        {
          "output_type": "stream",
          "text": [
            "R[write to console]: Error in eval(lhs, parent, parent) : object 'sono_df' not found\n",
            "Calls: <Anonymous> -> <Anonymous> -> withVisible -> %>% -> eval -> eval\n",
            "\n"
          ],
          "name": "stderr"
        },
        {
          "output_type": "stream",
          "text": [
            "\n",
            "Error in eval(lhs, parent, parent) : object 'sono_df' not found\n",
            "Calls: <Anonymous> -> <Anonymous> -> withVisible -> %>% -> eval -> eval\n"
          ],
          "name": "stdout"
        }
      ]
    },
    {
      "cell_type": "code",
      "metadata": {
        "id": "4XaXDhBGR3RL",
        "colab_type": "code",
        "outputId": "fd6e4d53-2ba0-498c-b8d0-e2ef8bd9dfda",
        "colab": {
          "base_uri": "https://localhost:8080/",
          "height": 138
        }
      },
      "source": [
        "%%R\n",
        "sono_df %>% \n",
        "  select(nome, cidade, sono_total) %>% #select\n",
        "  arrange(cidade, desc(sono_total)) %>% #arrange desc\n",
        "  filter(sono_total >= 16) # filter"
      ],
      "execution_count": 20,
      "outputs": [
        {
          "output_type": "stream",
          "text": [
            "R[write to console]: Error in eval(lhs, parent, parent) : object 'sono_df' not found\n",
            "Calls: <Anonymous> -> <Anonymous> -> withVisible -> %>% -> eval -> eval\n",
            "\n"
          ],
          "name": "stderr"
        },
        {
          "output_type": "stream",
          "text": [
            "\n",
            "Error in eval(lhs, parent, parent) : object 'sono_df' not found\n",
            "Calls: <Anonymous> -> <Anonymous> -> withVisible -> %>% -> eval -> eval\n"
          ],
          "name": "stdout"
        }
      ]
    },
    {
      "cell_type": "markdown",
      "metadata": {
        "id": "fyJl0RQESZyK",
        "colab_type": "text"
      },
      "source": [
        "---"
      ]
    },
    {
      "cell_type": "markdown",
      "metadata": {
        "id": "sbO8cdDvSjb0",
        "colab_type": "text"
      },
      "source": [
        "#**Mutate()**  - {dplyr}"
      ]
    },
    {
      "cell_type": "code",
      "metadata": {
        "id": "0LY4Q9lFSmne",
        "colab_type": "code",
        "outputId": "17c983c2-1115-46ff-c73a-38e21b2e8bf8",
        "colab": {
          "base_uri": "https://localhost:8080/",
          "height": 138
        }
      },
      "source": [
        "%%R\n",
        "sono_df %>% \n",
        "  mutate(novo_indice = sono_total / peso) %>% #mutate mostra 1 novo campo em tempo de execução sem alterar dataframe\n",
        "  head #head"
      ],
      "execution_count": 21,
      "outputs": [
        {
          "output_type": "stream",
          "text": [
            "R[write to console]: Error in eval(lhs, parent, parent) : object 'sono_df' not found\n",
            "Calls: <Anonymous> -> <Anonymous> -> withVisible -> %>% -> eval -> eval\n",
            "\n"
          ],
          "name": "stderr"
        },
        {
          "output_type": "stream",
          "text": [
            "\n",
            "Error in eval(lhs, parent, parent) : object 'sono_df' not found\n",
            "Calls: <Anonymous> -> <Anonymous> -> withVisible -> %>% -> eval -> eval\n"
          ],
          "name": "stdout"
        }
      ]
    },
    {
      "cell_type": "code",
      "metadata": {
        "id": "yCIOuDz1SsEE",
        "colab_type": "code",
        "outputId": "effe4377-8921-46e5-da57-5a97f93649de",
        "colab": {
          "base_uri": "https://localhost:8080/",
          "height": 138
        }
      },
      "source": [
        "%%R\n",
        "sono_df %>% \n",
        "  mutate(novo_indice = sono_total / peso, peso_libras = peso / 0.45359237) %>% #mutate mostra 2 novos campo em tempo de execução sem alterar dataframe\n",
        "  head #head"
      ],
      "execution_count": 22,
      "outputs": [
        {
          "output_type": "stream",
          "text": [
            "R[write to console]: Error in eval(lhs, parent, parent) : object 'sono_df' not found\n",
            "Calls: <Anonymous> -> <Anonymous> -> withVisible -> %>% -> eval -> eval\n",
            "\n"
          ],
          "name": "stderr"
        },
        {
          "output_type": "stream",
          "text": [
            "\n",
            "Error in eval(lhs, parent, parent) : object 'sono_df' not found\n",
            "Calls: <Anonymous> -> <Anonymous> -> withVisible -> %>% -> eval -> eval\n"
          ],
          "name": "stdout"
        }
      ]
    },
    {
      "cell_type": "markdown",
      "metadata": {
        "id": "dGahk6mhXyB7",
        "colab_type": "text"
      },
      "source": [
        "---"
      ]
    },
    {
      "cell_type": "markdown",
      "metadata": {
        "id": "EMP3-ihGTOOl",
        "colab_type": "text"
      },
      "source": [
        "#**Summarise()** - {dplyr}"
      ]
    },
    {
      "cell_type": "code",
      "metadata": {
        "id": "2PL24PEITYF0",
        "colab_type": "code",
        "outputId": "b4b0fe1f-6b81-44a0-f3b7-d085053c3e58",
        "colab": {
          "base_uri": "https://localhost:8080/",
          "height": 138
        }
      },
      "source": [
        "%%R\n",
        "sono_df %>% \n",
        "  summarise(media_sono = mean(sono_total)) #summarise + mean\n"
      ],
      "execution_count": 23,
      "outputs": [
        {
          "output_type": "stream",
          "text": [
            "R[write to console]: Error in eval(lhs, parent, parent) : object 'sono_df' not found\n",
            "Calls: <Anonymous> -> <Anonymous> -> withVisible -> %>% -> eval -> eval\n",
            "\n"
          ],
          "name": "stderr"
        },
        {
          "output_type": "stream",
          "text": [
            "\n",
            "Error in eval(lhs, parent, parent) : object 'sono_df' not found\n",
            "Calls: <Anonymous> -> <Anonymous> -> withVisible -> %>% -> eval -> eval\n"
          ],
          "name": "stdout"
        }
      ]
    },
    {
      "cell_type": "code",
      "metadata": {
        "id": "uBfFdpVoTW7u",
        "colab_type": "code",
        "outputId": "447e24be-ad0d-49f1-d539-7db2a71bf4ab",
        "colab": {
          "base_uri": "https://localhost:8080/",
          "height": 138
        }
      },
      "source": [
        "%%R\n",
        "sono_df %>% \n",
        "  summarise(media_sono = mean(sono_total), #summarise + mean\n",
        "            min_sono = min(sono_total), #min\n",
        "            max_sono = max(sono_total), #max\n",
        "            total = n()) #n"
      ],
      "execution_count": 24,
      "outputs": [
        {
          "output_type": "stream",
          "text": [
            "R[write to console]: Error in eval(lhs, parent, parent) : object 'sono_df' not found\n",
            "Calls: <Anonymous> -> <Anonymous> -> withVisible -> %>% -> eval -> eval\n",
            "\n"
          ],
          "name": "stderr"
        },
        {
          "output_type": "stream",
          "text": [
            "\n",
            "Error in eval(lhs, parent, parent) : object 'sono_df' not found\n",
            "Calls: <Anonymous> -> <Anonymous> -> withVisible -> %>% -> eval -> eval\n"
          ],
          "name": "stdout"
        }
      ]
    },
    {
      "cell_type": "markdown",
      "metadata": {
        "id": "MJ8YEAusXw2a",
        "colab_type": "text"
      },
      "source": [
        "---"
      ]
    },
    {
      "cell_type": "markdown",
      "metadata": {
        "id": "OAIBsbvVTj_y",
        "colab_type": "text"
      },
      "source": [
        "#**Group_By()**  - {dplyr}\n",
        "## Antes agrupamento e depois sumarização "
      ]
    },
    {
      "cell_type": "code",
      "metadata": {
        "id": "o3ZunifdTp_0",
        "colab_type": "code",
        "outputId": "415b37c3-d663-4f13-9273-3024cb3d1a7f",
        "colab": {
          "base_uri": "https://localhost:8080/",
          "height": 138
        }
      },
      "source": [
        "%%R\n",
        "sono_df %>% \n",
        "  group_by(cidade) %>%  #group_by - agrupado por cidade\n",
        "  summarise(avg_sono = mean(sono_total), #summarise\n",
        "            min_sono = min(sono_total), #min\n",
        "            max_sono = max(sono_total), #max\n",
        "            total = n()) #n "
      ],
      "execution_count": 25,
      "outputs": [
        {
          "output_type": "stream",
          "text": [
            "R[write to console]: Error in eval(lhs, parent, parent) : object 'sono_df' not found\n",
            "Calls: <Anonymous> -> <Anonymous> -> withVisible -> %>% -> eval -> eval\n",
            "\n"
          ],
          "name": "stderr"
        },
        {
          "output_type": "stream",
          "text": [
            "\n",
            "Error in eval(lhs, parent, parent) : object 'sono_df' not found\n",
            "Calls: <Anonymous> -> <Anonymous> -> withVisible -> %>% -> eval -> eval\n"
          ],
          "name": "stdout"
        }
      ]
    },
    {
      "cell_type": "markdown",
      "metadata": {
        "id": "tKhZKbr5Ycva",
        "colab_type": "text"
      },
      "source": [
        "---"
      ]
    },
    {
      "cell_type": "markdown",
      "metadata": {
        "id": "_9JYlIkgYctw",
        "colab_type": "text"
      },
      "source": [
        ""
      ]
    },
    {
      "cell_type": "markdown",
      "metadata": {
        "id": "Mywta5VWVf7m",
        "colab_type": "text"
      },
      "source": [
        "#**Operador: %>%** - {dplyr}"
      ]
    },
    {
      "cell_type": "code",
      "metadata": {
        "id": "dpBbYoL6Vuf8",
        "colab_type": "code",
        "outputId": "34424fb7-020e-42f9-d582-25b96d889bd5",
        "colab": {
          "base_uri": "https://localhost:8080/",
          "height": 34
        }
      },
      "source": [
        "%%R #notação comum\n",
        "head(select(sono_df, nome, sono_total))"
      ],
      "execution_count": 26,
      "outputs": [
        {
          "output_type": "stream",
          "text": [
            "NULL\n"
          ],
          "name": "stdout"
        }
      ]
    },
    {
      "cell_type": "code",
      "metadata": {
        "id": "cvNOZxKBWqTj",
        "colab_type": "code",
        "outputId": "93bc9294-4dcf-4452-87af-294485c164e9",
        "colab": {
          "base_uri": "https://localhost:8080/",
          "height": 138
        }
      },
      "source": [
        "%%R\n",
        "sono_df %>% #outra notação para o mesmo comando anterior sem o pipe\n",
        "  select(nome, sono_total) %>% \n",
        "  head"
      ],
      "execution_count": 27,
      "outputs": [
        {
          "output_type": "stream",
          "text": [
            "R[write to console]: Error in eval(lhs, parent, parent) : object 'sono_df' not found\n",
            "Calls: <Anonymous> -> <Anonymous> -> withVisible -> %>% -> eval -> eval\n",
            "\n"
          ],
          "name": "stderr"
        },
        {
          "output_type": "stream",
          "text": [
            "\n",
            "Error in eval(lhs, parent, parent) : object 'sono_df' not found\n",
            "Calls: <Anonymous> -> <Anonymous> -> withVisible -> %>% -> eval -> eval\n"
          ],
          "name": "stdout"
        }
      ]
    },
    {
      "cell_type": "code",
      "metadata": {
        "id": "cqS-h5yaWqXF",
        "colab_type": "code",
        "outputId": "93c180af-c1eb-48e1-8a88-2b0cd606b2c4",
        "colab": {
          "base_uri": "https://localhost:8080/",
          "height": 138
        }
      },
      "source": [
        "%%R\n",
        "sono_df %>%\n",
        "  mutate(novo_indice = round(sono_total * peso)) %>%  #mutate + round\n",
        "  arrange(desc(novo_indice)) %>% #arrange + desd\n",
        "  select(cidade, novo_indice) #select "
      ],
      "execution_count": 28,
      "outputs": [
        {
          "output_type": "stream",
          "text": [
            "R[write to console]: Error in eval(lhs, parent, parent) : object 'sono_df' not found\n",
            "Calls: <Anonymous> -> <Anonymous> -> withVisible -> %>% -> eval -> eval\n",
            "\n"
          ],
          "name": "stderr"
        },
        {
          "output_type": "stream",
          "text": [
            "\n",
            "Error in eval(lhs, parent, parent) : object 'sono_df' not found\n",
            "Calls: <Anonymous> -> <Anonymous> -> withVisible -> %>% -> eval -> eval\n"
          ],
          "name": "stdout"
        }
      ]
    },
    {
      "cell_type": "code",
      "metadata": {
        "id": "iexMG0RwWqYo",
        "colab_type": "code",
        "outputId": "d22a87af-4bb2-4bba-9c49-fefe1c6c94ae",
        "colab": {
          "base_uri": "https://localhost:8080/",
          "height": 118
        }
      },
      "source": [
        "%%R\n",
        "sono_df"
      ],
      "execution_count": 29,
      "outputs": [
        {
          "output_type": "stream",
          "text": [
            "R[write to console]: Error in withVisible({ : object 'sono_df' not found\n",
            "Calls: <Anonymous> -> <Anonymous> -> withVisible\n",
            "\n"
          ],
          "name": "stderr"
        },
        {
          "output_type": "stream",
          "text": [
            "\n",
            "Error in withVisible({ : object 'sono_df' not found\n",
            "Calls: <Anonymous> -> <Anonymous> -> withVisible\n"
          ],
          "name": "stdout"
        }
      ]
    },
    {
      "cell_type": "code",
      "metadata": {
        "id": "sF7LLrBuWqSA",
        "colab_type": "code",
        "colab": {
          "base_uri": "https://localhost:8080/",
          "height": 138
        },
        "outputId": "2409c294-0f0d-4fd8-aa03-f7cfc98b418a"
      },
      "source": [
        "%%R\n",
        "sono_df2 <- sono_df %>%\n",
        "  mutate(novo_indice = round(sono_total * peso)) %>%\n",
        "  arrange(desc(novo_indice)) %>%\n",
        "  select(cidade, novo_indice)"
      ],
      "execution_count": 30,
      "outputs": [
        {
          "output_type": "stream",
          "text": [
            "R[write to console]: Error in eval(lhs, parent, parent) : object 'sono_df' not found\n",
            "Calls: <Anonymous> -> <Anonymous> -> withVisible -> %>% -> eval -> eval\n",
            "\n"
          ],
          "name": "stderr"
        },
        {
          "output_type": "stream",
          "text": [
            "\n",
            "Error in eval(lhs, parent, parent) : object 'sono_df' not found\n",
            "Calls: <Anonymous> -> <Anonymous> -> withVisible -> %>% -> eval -> eval\n"
          ],
          "name": "stdout"
        }
      ]
    },
    {
      "cell_type": "markdown",
      "metadata": {
        "id": "vt6s-sqjft6g",
        "colab_type": "text"
      },
      "source": [
        "\n",
        "\n",
        "---\n",
        "\n"
      ]
    },
    {
      "cell_type": "markdown",
      "metadata": {
        "id": "VmtKp3t3dujb",
        "colab_type": "text"
      },
      "source": [
        "---\n"
      ]
    },
    {
      "cell_type": "markdown",
      "metadata": {
        "id": "nDDwsL6sb8SX",
        "colab_type": "text"
      },
      "source": [
        "#**Estudo de caso** - {dplyr & hflights}\n",
        "## Limpando, Transformando e Manipulando Dados de Voos"
      ]
    },
    {
      "cell_type": "code",
      "metadata": {
        "id": "u6lbzfYecJkp",
        "colab_type": "code",
        "colab": {
          "base_uri": "https://localhost:8080/",
          "height": 1000
        },
        "outputId": "c063a5b6-8a09-481a-a83c-d32bd79da7b6"
      },
      "source": [
        "%%R\n",
        "install.packages(\"hflights\")\n",
        "library(hflights)\n",
        "library(dplyr)"
      ],
      "execution_count": 31,
      "outputs": [
        {
          "output_type": "stream",
          "text": [
            "R[write to console]: Installing package into ‘/usr/local/lib/R/site-library’\n",
            "(as ‘lib’ is unspecified)\n",
            "\n",
            "R[write to console]: trying URL 'https://cran.rstudio.com/src/contrib/hflights_0.1.tar.gz'\n",
            "\n",
            "R[write to console]: Content type 'application/x-gzip'\n",
            "R[write to console]:  length 2205510 bytes (2.1 MB)\n",
            "\n",
            "R[write to console]: =\n",
            "R[write to console]: =\n",
            "R[write to console]: =\n",
            "R[write to console]: =\n",
            "R[write to console]: =\n",
            "R[write to console]: =\n",
            "R[write to console]: =\n",
            "R[write to console]: =\n",
            "R[write to console]: =\n",
            "R[write to console]: =\n",
            "R[write to console]: =\n",
            "R[write to console]: =\n",
            "R[write to console]: =\n",
            "R[write to console]: =\n",
            "R[write to console]: =\n",
            "R[write to console]: =\n",
            "R[write to console]: =\n",
            "R[write to console]: =\n",
            "R[write to console]: =\n",
            "R[write to console]: =\n",
            "R[write to console]: =\n",
            "R[write to console]: =\n",
            "R[write to console]: =\n",
            "R[write to console]: =\n",
            "R[write to console]: =\n",
            "R[write to console]: =\n",
            "R[write to console]: =\n",
            "R[write to console]: =\n",
            "R[write to console]: =\n",
            "R[write to console]: =\n",
            "R[write to console]: =\n",
            "R[write to console]: =\n",
            "R[write to console]: =\n",
            "R[write to console]: =\n",
            "R[write to console]: =\n",
            "R[write to console]: =\n",
            "R[write to console]: =\n",
            "R[write to console]: =\n",
            "R[write to console]: =\n",
            "R[write to console]: =\n",
            "R[write to console]: =\n",
            "R[write to console]: =\n",
            "R[write to console]: =\n",
            "R[write to console]: =\n",
            "R[write to console]: =\n",
            "R[write to console]: =\n",
            "R[write to console]: =\n",
            "R[write to console]: =\n",
            "R[write to console]: =\n",
            "R[write to console]: =\n",
            "R[write to console]: \n",
            "\n",
            "R[write to console]: downloaded 2.1 MB\n",
            "\n",
            "\n",
            "R[write to console]: \n",
            "\n",
            "R[write to console]: \n",
            "R[write to console]: The downloaded source packages are in\n",
            "\t‘/tmp/Rtmpp7VVo8/downloaded_packages’\n",
            "R[write to console]: \n",
            "R[write to console]: \n",
            "\n"
          ],
          "name": "stderr"
        }
      ]
    },
    {
      "cell_type": "markdown",
      "metadata": {
        "id": "4EnylzqxfoP4",
        "colab_type": "text"
      },
      "source": [
        "\n",
        "\n",
        "---\n",
        "\n"
      ]
    },
    {
      "cell_type": "markdown",
      "metadata": {
        "id": "o2C3zruseSpz",
        "colab_type": "text"
      },
      "source": [
        "#**tbl_df()** - {dplyr}\n",
        "## 1. Criando objeto Tibble DataFrame"
      ]
    },
    {
      "cell_type": "code",
      "metadata": {
        "id": "t8blWoSweBHa",
        "colab_type": "code",
        "colab": {}
      },
      "source": [
        "%%R\n",
        "flights <- tbl_df(hflights)"
      ],
      "execution_count": 0,
      "outputs": []
    },
    {
      "cell_type": "markdown",
      "metadata": {
        "id": "kYGybArCf7-J",
        "colab_type": "text"
      },
      "source": [
        "#**glimpse()**\n",
        "## 2. Resumindo dados, tipos e dimensão "
      ]
    },
    {
      "cell_type": "code",
      "metadata": {
        "id": "V1qaeCF2eBNY",
        "colab_type": "code",
        "outputId": "e4728190-fd6c-4eb5-be10-38119456d99d",
        "colab": {
          "base_uri": "https://localhost:8080/",
          "height": 403
        }
      },
      "source": [
        "%%R \n",
        "glimpse(flights)"
      ],
      "execution_count": 33,
      "outputs": [
        {
          "output_type": "stream",
          "text": [
            "Rows: 227,496\n",
            "Columns: 21\n",
            "$ Year              <int> 2011, 2011, 2011, 2011, 2011, 2011, 2011, 2011, 201…\n",
            "$ Month             <int> 1, 1, 1, 1, 1, 1, 1, 1, 1, 1, 1, 1, 1, 1, 1, 1, 1, …\n",
            "$ DayofMonth        <int> 1, 2, 3, 4, 5, 6, 7, 8, 9, 10, 11, 12, 13, 14, 15, …\n",
            "$ DayOfWeek         <int> 6, 7, 1, 2, 3, 4, 5, 6, 7, 1, 2, 3, 4, 5, 6, 7, 1, …\n",
            "$ DepTime           <int> 1400, 1401, 1352, 1403, 1405, 1359, 1359, 1355, 144…\n",
            "$ ArrTime           <int> 1500, 1501, 1502, 1513, 1507, 1503, 1509, 1454, 155…\n",
            "$ UniqueCarrier     <chr> \"AA\", \"AA\", \"AA\", \"AA\", \"AA\", \"AA\", \"AA\", \"AA\", \"AA…\n",
            "$ FlightNum         <int> 428, 428, 428, 428, 428, 428, 428, 428, 428, 428, 4…\n",
            "$ TailNum           <chr> \"N576AA\", \"N557AA\", \"N541AA\", \"N403AA\", \"N492AA\", \"…\n",
            "$ ActualElapsedTime <int> 60, 60, 70, 70, 62, 64, 70, 59, 71, 70, 70, 56, 63,…\n",
            "$ AirTime           <int> 40, 45, 48, 39, 44, 45, 43, 40, 41, 45, 42, 41, 44,…\n",
            "$ ArrDelay          <int> -10, -9, -8, 3, -3, -7, -1, -16, 44, 43, 29, 5, -9,…\n",
            "$ DepDelay          <int> 0, 1, -8, 3, 5, -1, -1, -5, 43, 43, 29, 19, -2, -3,…\n",
            "$ Origin            <chr> \"IAH\", \"IAH\", \"IAH\", \"IAH\", \"IAH\", \"IAH\", \"IAH\", \"I…\n",
            "$ Dest              <chr> \"DFW\", \"DFW\", \"DFW\", \"DFW\", \"DFW\", \"DFW\", \"DFW\", \"D…\n",
            "$ Distance          <int> 224, 224, 224, 224, 224, 224, 224, 224, 224, 224, 2…\n",
            "$ TaxiIn            <int> 7, 6, 5, 9, 9, 6, 12, 7, 8, 6, 8, 4, 6, 5, 6, 12, 8…\n",
            "$ TaxiOut           <int> 13, 9, 17, 22, 9, 13, 15, 12, 22, 19, 20, 11, 13, 1…\n",
            "$ Cancelled         <int> 0, 0, 0, 0, 0, 0, 0, 0, 0, 0, 0, 0, 0, 0, 0, 0, 0, …\n",
            "$ CancellationCode  <chr> \"\", \"\", \"\", \"\", \"\", \"\", \"\", \"\", \"\", \"\", \"\", \"\", \"\",…\n",
            "$ Diverted          <int> 0, 0, 0, 0, 0, 0, 0, 0, 0, 0, 0, 0, 0, 0, 0, 0, 0, …\n"
          ],
          "name": "stdout"
        }
      ]
    },
    {
      "cell_type": "markdown",
      "metadata": {
        "id": "ZauE8aDVf23d",
        "colab_type": "text"
      },
      "source": [
        "#**data.frame()**\n",
        "##3.  Visualizando como DataFrame"
      ]
    },
    {
      "cell_type": "code",
      "metadata": {
        "id": "9n08FWORgzQQ",
        "colab_type": "code",
        "outputId": "bad681de-f1d0-455a-8530-377f23055a4e",
        "colab": {
          "base_uri": "https://localhost:8080/",
          "height": 370
        }
      },
      "source": [
        "%%R\n",
        "data.frame(head(flights))"
      ],
      "execution_count": 34,
      "outputs": [
        {
          "output_type": "stream",
          "text": [
            "  Year Month DayofMonth DayOfWeek DepTime ArrTime UniqueCarrier FlightNum\n",
            "1 2011     1          1         6    1400    1500            AA       428\n",
            "2 2011     1          2         7    1401    1501            AA       428\n",
            "3 2011     1          3         1    1352    1502            AA       428\n",
            "4 2011     1          4         2    1403    1513            AA       428\n",
            "5 2011     1          5         3    1405    1507            AA       428\n",
            "6 2011     1          6         4    1359    1503            AA       428\n",
            "  TailNum ActualElapsedTime AirTime ArrDelay DepDelay Origin Dest Distance\n",
            "1  N576AA                60      40      -10        0    IAH  DFW      224\n",
            "2  N557AA                60      45       -9        1    IAH  DFW      224\n",
            "3  N541AA                70      48       -8       -8    IAH  DFW      224\n",
            "4  N403AA                70      39        3        3    IAH  DFW      224\n",
            "5  N492AA                62      44       -3        5    IAH  DFW      224\n",
            "6  N262AA                64      45       -7       -1    IAH  DFW      224\n",
            "  TaxiIn TaxiOut Cancelled CancellationCode Diverted\n",
            "1      7      13         0                         0\n",
            "2      6       9         0                         0\n",
            "3      5      17         0                         0\n",
            "4      9      22         0                         0\n",
            "5      9       9         0                         0\n",
            "6      6      13         0                         0\n"
          ],
          "name": "stdout"
        }
      ]
    },
    {
      "cell_type": "markdown",
      "metadata": {
        "id": "4STNM8SJinmG",
        "colab_type": "text"
      },
      "source": [
        "# Slicing"
      ]
    },
    {
      "cell_type": "code",
      "metadata": {
        "id": "1O9xg0lYitPe",
        "colab_type": "code",
        "outputId": "f169d1e3-d978-47a0-ddeb-0e37c5966256",
        "colab": {
          "base_uri": "https://localhost:8080/",
          "height": 302
        }
      },
      "source": [
        "#filtrando dados com slice\n",
        "%%R\n",
        "flights[flights$Month == 1 & flights$DayofMonth == 1, ] #expresão inteira para retornar as linhas especificas e todas as colunas "
      ],
      "execution_count": 35,
      "outputs": [
        {
          "output_type": "stream",
          "text": [
            "# A tibble: 552 x 21\n",
            "    Year Month DayofMonth DayOfWeek DepTime ArrTime UniqueCarrier FlightNum\n",
            "   <int> <int>      <int>     <int>   <int>   <int> <chr>             <int>\n",
            " 1  2011     1          1         6    1400    1500 AA                  428\n",
            " 2  2011     1          1         6     728     840 AA                  460\n",
            " 3  2011     1          1         6    1631    1736 AA                 1121\n",
            " 4  2011     1          1         6    1756    2112 AA                 1294\n",
            " 5  2011     1          1         6    1012    1347 AA                 1700\n",
            " 6  2011     1          1         6    1211    1325 AA                 1820\n",
            " 7  2011     1          1         6     557     906 AA                 1994\n",
            " 8  2011     1          1         6    1824    2106 AS                  731\n",
            " 9  2011     1          1         6     654    1124 B6                  620\n",
            "10  2011     1          1         6    1639    2110 B6                  622\n",
            "# … with 542 more rows, and 13 more variables: TailNum <chr>,\n",
            "#   ActualElapsedTime <int>, AirTime <int>, ArrDelay <int>, DepDelay <int>,\n",
            "#   Origin <chr>, Dest <chr>, Distance <int>, TaxiIn <int>, TaxiOut <int>,\n",
            "#   Cancelled <int>, CancellationCode <chr>, Diverted <int>\n"
          ],
          "name": "stdout"
        }
      ]
    },
    {
      "cell_type": "markdown",
      "metadata": {
        "id": "rdqI0Jw5mPW8",
        "colab_type": "text"
      },
      "source": [
        "#**filter()** - {dplyr}\n",
        "## Prático"
      ]
    },
    {
      "cell_type": "code",
      "metadata": {
        "id": "FvVC6N1zjaiI",
        "colab_type": "code",
        "outputId": "3383c1d0-8cbe-4934-fbc3-86297ed0673b",
        "colab": {
          "base_uri": "https://localhost:8080/",
          "height": 302
        }
      },
      "source": [
        "#aplicando filter \n",
        "%%R\n",
        "filter(flights, Month == 1, DayofMonth == 1 ) #filter + duas regras de filtro"
      ],
      "execution_count": 36,
      "outputs": [
        {
          "output_type": "stream",
          "text": [
            "# A tibble: 552 x 21\n",
            "    Year Month DayofMonth DayOfWeek DepTime ArrTime UniqueCarrier FlightNum\n",
            "   <int> <int>      <int>     <int>   <int>   <int> <chr>             <int>\n",
            " 1  2011     1          1         6    1400    1500 AA                  428\n",
            " 2  2011     1          1         6     728     840 AA                  460\n",
            " 3  2011     1          1         6    1631    1736 AA                 1121\n",
            " 4  2011     1          1         6    1756    2112 AA                 1294\n",
            " 5  2011     1          1         6    1012    1347 AA                 1700\n",
            " 6  2011     1          1         6    1211    1325 AA                 1820\n",
            " 7  2011     1          1         6     557     906 AA                 1994\n",
            " 8  2011     1          1         6    1824    2106 AS                  731\n",
            " 9  2011     1          1         6     654    1124 B6                  620\n",
            "10  2011     1          1         6    1639    2110 B6                  622\n",
            "# … with 542 more rows, and 13 more variables: TailNum <chr>,\n",
            "#   ActualElapsedTime <int>, AirTime <int>, ArrDelay <int>, DepDelay <int>,\n",
            "#   Origin <chr>, Dest <chr>, Distance <int>, TaxiIn <int>, TaxiOut <int>,\n",
            "#   Cancelled <int>, CancellationCode <chr>, Diverted <int>\n"
          ],
          "name": "stdout"
        }
      ]
    },
    {
      "cell_type": "code",
      "metadata": {
        "id": "UWdNDE5Djb_z",
        "colab_type": "code",
        "colab": {
          "base_uri": "https://localhost:8080/",
          "height": 302
        },
        "outputId": "bb982153-5dee-4ab7-e7b5-d7b4a4b59865"
      },
      "source": [
        "#aplicando filter\n",
        "%%R\n",
        "filter(flights, UniqueCarrier %in% c(\"AA\", \"UA\"))\n"
      ],
      "execution_count": 38,
      "outputs": [
        {
          "output_type": "stream",
          "text": [
            "# A tibble: 5,316 x 21\n",
            "    Year Month DayofMonth DayOfWeek DepTime ArrTime UniqueCarrier FlightNum\n",
            "   <int> <int>      <int>     <int>   <int>   <int> <chr>             <int>\n",
            " 1  2011     1          1         6    1400    1500 AA                  428\n",
            " 2  2011     1          2         7    1401    1501 AA                  428\n",
            " 3  2011     1          3         1    1352    1502 AA                  428\n",
            " 4  2011     1          4         2    1403    1513 AA                  428\n",
            " 5  2011     1          5         3    1405    1507 AA                  428\n",
            " 6  2011     1          6         4    1359    1503 AA                  428\n",
            " 7  2011     1          7         5    1359    1509 AA                  428\n",
            " 8  2011     1          8         6    1355    1454 AA                  428\n",
            " 9  2011     1          9         7    1443    1554 AA                  428\n",
            "10  2011     1         10         1    1443    1553 AA                  428\n",
            "# … with 5,306 more rows, and 13 more variables: TailNum <chr>,\n",
            "#   ActualElapsedTime <int>, AirTime <int>, ArrDelay <int>, DepDelay <int>,\n",
            "#   Origin <chr>, Dest <chr>, Distance <int>, TaxiIn <int>, TaxiOut <int>,\n",
            "#   Cancelled <int>, CancellationCode <chr>, Diverted <int>\n"
          ],
          "name": "stdout"
        }
      ]
    },
    {
      "cell_type": "code",
      "metadata": {
        "id": "bZxy-KR4jb1M",
        "colab_type": "code",
        "colab": {
          "base_uri": "https://localhost:8080/",
          "height": 302
        },
        "outputId": "e50d775f-03da-48d3-dba3-75eb1eb91bb4"
      },
      "source": [
        "#aplicando filter\n",
        "%%R\n",
        "filter(flights, UniqueCarrier == \"AA\" | UniqueCarrier == \"UA\")\n",
        "# filtrar apenas aquilo que é importante para nosso trabalho. "
      ],
      "execution_count": 45,
      "outputs": [
        {
          "output_type": "stream",
          "text": [
            "# A tibble: 5,316 x 21\n",
            "    Year Month DayofMonth DayOfWeek DepTime ArrTime UniqueCarrier FlightNum\n",
            "   <int> <int>      <int>     <int>   <int>   <int> <chr>             <int>\n",
            " 1  2011     1          1         6    1400    1500 AA                  428\n",
            " 2  2011     1          2         7    1401    1501 AA                  428\n",
            " 3  2011     1          3         1    1352    1502 AA                  428\n",
            " 4  2011     1          4         2    1403    1513 AA                  428\n",
            " 5  2011     1          5         3    1405    1507 AA                  428\n",
            " 6  2011     1          6         4    1359    1503 AA                  428\n",
            " 7  2011     1          7         5    1359    1509 AA                  428\n",
            " 8  2011     1          8         6    1355    1454 AA                  428\n",
            " 9  2011     1          9         7    1443    1554 AA                  428\n",
            "10  2011     1         10         1    1443    1553 AA                  428\n",
            "# … with 5,306 more rows, and 13 more variables: TailNum <chr>,\n",
            "#   ActualElapsedTime <int>, AirTime <int>, ArrDelay <int>, DepDelay <int>,\n",
            "#   Origin <chr>, Dest <chr>, Distance <int>, TaxiIn <int>, TaxiOut <int>,\n",
            "#   Cancelled <int>, CancellationCode <chr>, Diverted <int>\n"
          ],
          "name": "stdout"
        }
      ]
    },
    {
      "cell_type": "code",
      "metadata": {
        "id": "JyHGjqHEuCW3",
        "colab_type": "code",
        "colab": {
          "base_uri": "https://localhost:8080/",
          "height": 134
        },
        "outputId": "c9ed4732-c86f-4b50-ca82-52e3eb277e29"
      },
      "source": [
        "#aplicando filter &\n",
        "%%R\n",
        "filter(flights, UniqueCarrier == \"AA\" & UniqueCarrier == \"UA\")\n",
        "# não há retorno com duas companhias iguais"
      ],
      "execution_count": 48,
      "outputs": [
        {
          "output_type": "stream",
          "text": [
            "# A tibble: 0 x 21\n",
            "# … with 21 variables: Year <int>, Month <int>, DayofMonth <int>,\n",
            "#   DayOfWeek <int>, DepTime <int>, ArrTime <int>, UniqueCarrier <chr>,\n",
            "#   FlightNum <int>, TailNum <chr>, ActualElapsedTime <int>, AirTime <int>,\n",
            "#   ArrDelay <int>, DepDelay <int>, Origin <chr>, Dest <chr>, Distance <int>,\n",
            "#   TaxiIn <int>, TaxiOut <int>, Cancelled <int>, CancellationCode <chr>,\n",
            "#   Diverted <int>\n"
          ],
          "name": "stdout"
        }
      ]
    },
    {
      "cell_type": "code",
      "metadata": {
        "id": "ohkK2D8DrnVN",
        "colab_type": "code",
        "colab": {
          "base_uri": "https://localhost:8080/",
          "height": 302
        },
        "outputId": "da12d7fe-dc7a-46d7-a6d1-938e841839b1"
      },
      "source": [
        "#aplicando filter %in% vetor\n",
        "%%R\n",
        "filter(flights, UniqueCarrier %in% c(\"AA\", \"UA\"))"
      ],
      "execution_count": 49,
      "outputs": [
        {
          "output_type": "stream",
          "text": [
            "# A tibble: 5,316 x 21\n",
            "    Year Month DayofMonth DayOfWeek DepTime ArrTime UniqueCarrier FlightNum\n",
            "   <int> <int>      <int>     <int>   <int>   <int> <chr>             <int>\n",
            " 1  2011     1          1         6    1400    1500 AA                  428\n",
            " 2  2011     1          2         7    1401    1501 AA                  428\n",
            " 3  2011     1          3         1    1352    1502 AA                  428\n",
            " 4  2011     1          4         2    1403    1513 AA                  428\n",
            " 5  2011     1          5         3    1405    1507 AA                  428\n",
            " 6  2011     1          6         4    1359    1503 AA                  428\n",
            " 7  2011     1          7         5    1359    1509 AA                  428\n",
            " 8  2011     1          8         6    1355    1454 AA                  428\n",
            " 9  2011     1          9         7    1443    1554 AA                  428\n",
            "10  2011     1         10         1    1443    1553 AA                  428\n",
            "# … with 5,306 more rows, and 13 more variables: TailNum <chr>,\n",
            "#   ActualElapsedTime <int>, AirTime <int>, ArrDelay <int>, DepDelay <int>,\n",
            "#   Origin <chr>, Dest <chr>, Distance <int>, TaxiIn <int>, TaxiOut <int>,\n",
            "#   Cancelled <int>, CancellationCode <chr>, Diverted <int>\n"
          ],
          "name": "stdout"
        }
      ]
    },
    {
      "cell_type": "markdown",
      "metadata": {
        "id": "HzSS6JrboK4M",
        "colab_type": "text"
      },
      "source": [
        "#**Select()** - {dplyr}\n"
      ]
    },
    {
      "cell_type": "code",
      "metadata": {
        "id": "ZqGMCyC0oPzK",
        "colab_type": "code",
        "colab": {
          "base_uri": "https://localhost:8080/",
          "height": 252
        },
        "outputId": "df123542-fc25-41af-d0f2-ac5bec8f2259"
      },
      "source": [
        "%%R \n",
        "select(flights, Year:DayofMonth, contains(\"Taxi\"), contains(\"Delay\")) \n",
        "# seleção da colunas de year até DayofMonth - seleção range de colunas\n",
        "# e outras colunas que contenham caracteres \"Taxi\" e \"Delay\"\n",
        "# retornou o range + TaxiIn,, TaxiOut, ArrDelay, DepDelay"
      ],
      "execution_count": 44,
      "outputs": [
        {
          "output_type": "stream",
          "text": [
            "# A tibble: 227,496 x 7\n",
            "    Year Month DayofMonth TaxiIn TaxiOut ArrDelay DepDelay\n",
            "   <int> <int>      <int>  <int>   <int>    <int>    <int>\n",
            " 1  2011     1          1      7      13      -10        0\n",
            " 2  2011     1          2      6       9       -9        1\n",
            " 3  2011     1          3      5      17       -8       -8\n",
            " 4  2011     1          4      9      22        3        3\n",
            " 5  2011     1          5      9       9       -3        5\n",
            " 6  2011     1          6      6      13       -7       -1\n",
            " 7  2011     1          7     12      15       -1       -1\n",
            " 8  2011     1          8      7      12      -16       -5\n",
            " 9  2011     1          9      8      22       44       43\n",
            "10  2011     1         10      6      19       43       43\n",
            "# … with 227,486 more rows\n"
          ],
          "name": "stdout"
        }
      ]
    },
    {
      "cell_type": "markdown",
      "metadata": {
        "id": "cReyaIUbvDLg",
        "colab_type": "text"
      },
      "source": [
        "#**Organizando os Dados**"
      ]
    },
    {
      "cell_type": "code",
      "metadata": {
        "id": "lStPHI_AvTII",
        "colab_type": "code",
        "colab": {
          "base_uri": "https://localhost:8080/",
          "height": 252
        },
        "outputId": "cbad8f40-3ea4-46a1-fe79-3030767a6773"
      },
      "source": [
        "%%R\n",
        "flights %>%\n",
        "  select(UniqueCarrier, DepDelay) %>%\n",
        "  arrange(DepDelay) #arrange"
      ],
      "execution_count": 50,
      "outputs": [
        {
          "output_type": "stream",
          "text": [
            "# A tibble: 227,496 x 2\n",
            "   UniqueCarrier DepDelay\n",
            "   <chr>            <int>\n",
            " 1 OO                 -33\n",
            " 2 MQ                 -23\n",
            " 3 XE                 -19\n",
            " 4 XE                 -19\n",
            " 5 CO                 -18\n",
            " 6 EV                 -18\n",
            " 7 XE                 -17\n",
            " 8 CO                 -17\n",
            " 9 XE                 -17\n",
            "10 MQ                 -17\n",
            "# … with 227,486 more rows\n"
          ],
          "name": "stdout"
        }
      ]
    },
    {
      "cell_type": "code",
      "metadata": {
        "id": "HhDPQZpZvhhV",
        "colab_type": "code",
        "colab": {
          "base_uri": "https://localhost:8080/",
          "height": 252
        },
        "outputId": "564cf01f-3bc6-41fb-c50b-125cb2f9958b"
      },
      "source": [
        "%%R\n",
        "flights%>%\n",
        "  select(Distance, AirTime) %>%\n",
        "  mutate(Speed = Distance/AirTime*60) #mutate Speed"
      ],
      "execution_count": 51,
      "outputs": [
        {
          "output_type": "stream",
          "text": [
            "# A tibble: 227,496 x 3\n",
            "   Distance AirTime Speed\n",
            "      <int>   <int> <dbl>\n",
            " 1      224      40  336 \n",
            " 2      224      45  299.\n",
            " 3      224      48  280 \n",
            " 4      224      39  345.\n",
            " 5      224      44  305.\n",
            " 6      224      45  299.\n",
            " 7      224      43  313.\n",
            " 8      224      40  336 \n",
            " 9      224      41  328.\n",
            "10      224      45  299.\n",
            "# … with 227,486 more rows\n"
          ],
          "name": "stdout"
        }
      ]
    },
    {
      "cell_type": "markdown",
      "metadata": {
        "id": "us6f4aBhv8Q_",
        "colab_type": "text"
      },
      "source": [
        "#**head(with(data(tapply(col1, col2, mean, na.rm = TRUE))**"
      ]
    },
    {
      "cell_type": "code",
      "metadata": {
        "id": "SLgPYfRpv2TK",
        "colab_type": "code",
        "colab": {
          "base_uri": "https://localhost:8080/",
          "height": 50
        },
        "outputId": "9ba4afa3-ea87-488a-b0e2-11dbef13003f"
      },
      "source": [
        "%%R\n",
        "head(with(flights, tapply(ArrDelay, Dest, mean, na.rm = TRUE)))"
      ],
      "execution_count": 53,
      "outputs": [
        {
          "output_type": "stream",
          "text": [
            "      ABQ       AEX       AGS       AMA       ANC       ASE \n",
            " 7.226259  5.839437  4.000000  6.840095 26.080645  6.794643 \n"
          ],
          "name": "stdout"
        }
      ]
    },
    {
      "cell_type": "markdown",
      "metadata": {
        "id": "aPuX9yMkv-eE",
        "colab_type": "text"
      },
      "source": [
        "#**aggregate()**"
      ]
    },
    {
      "cell_type": "code",
      "metadata": {
        "id": "t5KK3P44v4YX",
        "colab_type": "code",
        "colab": {
          "base_uri": "https://localhost:8080/",
          "height": 134
        },
        "outputId": "74eb5c11-acd9-49a2-a463-185779412e84"
      },
      "source": [
        "%%R \n",
        "head(aggregate(ArrDelay ~ Dest, flights, mean))\n",
        "#agregação por cada um dos tipos de destino"
      ],
      "execution_count": 54,
      "outputs": [
        {
          "output_type": "stream",
          "text": [
            "  Dest  ArrDelay\n",
            "1  ABQ  7.226259\n",
            "2  AEX  5.839437\n",
            "3  AGS  4.000000\n",
            "4  AMA  6.840095\n",
            "5  ANC 26.080645\n",
            "6  ASE  6.794643\n"
          ],
          "name": "stdout"
        }
      ]
    },
    {
      "cell_type": "markdown",
      "metadata": {
        "id": "6MrdGUMrxcWo",
        "colab_type": "text"
      },
      "source": [
        "#**tally()** "
      ]
    },
    {
      "cell_type": "code",
      "metadata": {
        "id": "94sQqtBkw0kL",
        "colab_type": "code",
        "colab": {
          "base_uri": "https://localhost:8080/",
          "height": 269
        },
        "outputId": "b3cd473d-6efc-49d0-908a-d105112fce44"
      },
      "source": [
        "%%R\n",
        "flights %>%\n",
        "  group_by(Month, DayofMonth) %>%\n",
        "  tally(sort = TRUE)"
      ],
      "execution_count": 57,
      "outputs": [
        {
          "output_type": "stream",
          "text": [
            "# A tibble: 365 x 3\n",
            "# Groups:   Month [12]\n",
            "   Month DayofMonth     n\n",
            "   <int>      <int> <int>\n",
            " 1     8          4   706\n",
            " 2     8         11   706\n",
            " 3     8         12   706\n",
            " 4     8          5   705\n",
            " 5     8          3   704\n",
            " 6     8         10   704\n",
            " 7     1          3   702\n",
            " 8     7          7   702\n",
            " 9     7         14   702\n",
            "10     7         28   701\n",
            "# … with 355 more rows\n"
          ],
          "name": "stdout"
        }
      ]
    },
    {
      "cell_type": "code",
      "metadata": {
        "id": "qS937YXfxWcJ",
        "colab_type": "code",
        "colab": {}
      },
      "source": [
        ""
      ],
      "execution_count": 0,
      "outputs": []
    }
  ]
}