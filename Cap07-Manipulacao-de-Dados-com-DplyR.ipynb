{
  "nbformat": 4,
  "nbformat_minor": 0,
  "metadata": {
    "colab": {
      "name": "Manipulacao-de-Dados-com-R.ipynb",
      "provenance": [],
      "collapsed_sections": []
    },
    "kernelspec": {
      "name": "python3",
      "display_name": "Python 3"
    },
    "accelerator": "GPU"
  },
  "cells": [
    {
      "cell_type": "code",
      "metadata": {
        "id": "2h-2I4CviFCR",
        "colab_type": "code",
        "colab": {}
      },
      "source": [
        "# activate R magic\n",
        "%load_ext rpy2.ipython"
      ],
      "execution_count": 0,
      "outputs": []
    },
    {
      "cell_type": "markdown",
      "metadata": {
        "id": "dtkChhxpiWEd",
        "colab_type": "text"
      },
      "source": [
        "%%R\n",
        "#**Manipulação de Dados com R** \n",
        "[link text](https://)\n",
        "\n"
      ]
    },
    {
      "cell_type": "markdown",
      "metadata": {
        "id": "SQ7FqxHo94I5",
        "colab_type": "text"
      },
      "source": [
        "**tidyr** - Remodelagem de Dados, **Formatação dos dados**. Com apenas uma função, somos capazes de mudar completamente o formato (shape) dos nossos dados e isso pode fazer muita diferença no processo de análise. \n",
        "\n",
        "- gather( )  -    tudo que é linha vira coluna\n",
        "- spread( )  -    tudo que é coluna vira linha\n",
        "- separate( ) -  separar coluna coluna data em dia | mês | ano\n",
        "- unite( ) - unir dados em uma única coluna\n"
      ]
    },
    {
      "cell_type": "markdown",
      "metadata": {
        "id": "GL4C6gud94CB",
        "colab_type": "text"
      },
      "source": [
        "dplyr - Criado para complementar o que é feito com a linguagem SQL. A forma de pensar em termos de dados é a mesma. \n",
        "\n",
        "- select( ) - selecionar parte dos dados do conjunto\n",
        "- filter( ) - filtro e aplico regras \n",
        "- group_by( ) - agrupar dados \n",
        "- summarise( ) - sumarizar e resumir os dados\n",
        "- arrange( ) - reorganizar as linhas em uma coluna ou mais\n",
        "- join( ) - unir dois ou mais datasets\n",
        "- mutate( ) - realizar cálculos dentro de uma mesma coluna"
      ]
    },
    {
      "cell_type": "markdown",
      "metadata": {
        "id": "e9LawpdlRsqB",
        "colab_type": "text"
      },
      "source": [
        "---"
      ]
    },
    {
      "cell_type": "markdown",
      "metadata": {
        "id": "H0wA38-qIhZj",
        "colab_type": "text"
      },
      "source": [
        "#Limpeza, Formatação e Manipulação de Dados em R \n",
        "#**dplyr - Transformação de Dados**"
      ]
    },
    {
      "cell_type": "markdown",
      "metadata": {
        "id": "0-6-K2ovRzqy",
        "colab_type": "text"
      },
      "source": [
        ""
      ]
    },
    {
      "cell_type": "code",
      "metadata": {
        "id": "D_asKHU5InrK",
        "colab_type": "code",
        "colab": {}
      },
      "source": [
        "%%R\n",
        "# Instalando os pacotes\n",
        "install.packages(\"readr\")\n",
        "install.packages(\"dplyr\")\n",
        "library(readr)\n",
        "library(dplyr)"
      ],
      "execution_count": 0,
      "outputs": []
    },
    {
      "cell_type": "code",
      "metadata": {
        "id": "t8-yfSYtIyJr",
        "colab_type": "code",
        "colab": {}
      },
      "source": [
        "%%R\n",
        "# Carregando o dataset\n",
        "sono_df <- read_csv(\"sono.csv\")\n",
        "View(sono_df)\n",
        "head(sono_df)\n",
        "class(sono_df)\n",
        "str(sono_df)"
      ],
      "execution_count": 0,
      "outputs": []
    },
    {
      "cell_type": "code",
      "metadata": {
        "id": "wZoIj_cgLAcH",
        "colab_type": "code",
        "outputId": "9638cc31-ec3f-4360-a2a4-0e48167d2509",
        "colab": {
          "base_uri": "https://localhost:8080/",
          "height": 202
        }
      },
      "source": [
        "%%R\n",
        "# Carregando o dataset e retornando o resumo dos dados carregados e seus tipos\n",
        "# read_csv ao importar já formata o dataset em \"tibble\"\n",
        "sono_df <- read_csv(\"sono.csv\")"
      ],
      "execution_count": 61,
      "outputs": [
        {
          "output_type": "stream",
          "text": [
            "R[write to console]: Parsed with column specification:\n",
            "cols(\n",
            "  nome = col_character(),\n",
            "  cidade = col_character(),\n",
            "  pais = col_character(),\n",
            "  sono_total = col_double(),\n",
            "  sono_ciclo = col_double(),\n",
            "  sono_indice = col_double(),\n",
            "  peso = col_double()\n",
            ")\n",
            "\n"
          ],
          "name": "stderr"
        }
      ]
    },
    {
      "cell_type": "code",
      "metadata": {
        "id": "Y-0T1uJFLFn-",
        "colab_type": "code",
        "outputId": "8862aeeb-a293-44ff-ec2c-6d3a4169298e",
        "colab": {
          "base_uri": "https://localhost:8080/",
          "height": 168
        }
      },
      "source": [
        "%%R \n",
        "head(sono_df)"
      ],
      "execution_count": 62,
      "outputs": [
        {
          "output_type": "stream",
          "text": [
            "# A tibble: 6 x 7\n",
            "  nome     cidade    pais   sono_total sono_ciclo sono_indice  peso\n",
            "  <chr>    <chr>     <chr>       <dbl>      <dbl>       <dbl> <dbl>\n",
            "1 Breno    Recife    Brasil       12.1     NA            11.9    50\n",
            "2 Monica   Fortaleza Brasil       17       NA             7      72\n",
            "3 Tiago    Goiania   Brasil       14.4     NA             9.6    63\n",
            "4 Fernando Curitiba  Brasil       14.9      0.133         9.1    67\n",
            "5 Matias   Recife    Brasil        4        0.667        20      49\n",
            "6 Carlos   Recife    Brasil       14.4      0.767         9.6    56\n"
          ],
          "name": "stdout"
        }
      ]
    },
    {
      "cell_type": "code",
      "metadata": {
        "id": "_8HOl0poLFsH",
        "colab_type": "code",
        "outputId": "2bac1753-18ea-4668-85dd-9ea2d7477216",
        "colab": {
          "base_uri": "https://localhost:8080/",
          "height": 34
        }
      },
      "source": [
        "%%R\n",
        "class(sono_df)"
      ],
      "execution_count": 63,
      "outputs": [
        {
          "output_type": "stream",
          "text": [
            "[1] \"spec_tbl_df\" \"tbl_df\"      \"tbl\"         \"data.frame\" \n"
          ],
          "name": "stdout"
        }
      ]
    },
    {
      "cell_type": "code",
      "metadata": {
        "id": "K448UCFJLFu-",
        "colab_type": "code",
        "colab": {
          "base_uri": "https://localhost:8080/",
          "height": 319
        },
        "outputId": "4f83c20d-b31f-49cc-e185-4258fdcaeb2e"
      },
      "source": [
        "%%R\n",
        "str(sono_df)"
      ],
      "execution_count": 64,
      "outputs": [
        {
          "output_type": "stream",
          "text": [
            "tibble [30 × 7] (S3: spec_tbl_df/tbl_df/tbl/data.frame)\n",
            " $ nome       : chr [1:30] \"Breno\" \"Monica\" \"Tiago\" \"Fernando\" ...\n",
            " $ cidade     : chr [1:30] \"Recife\" \"Fortaleza\" \"Goiania\" \"Curitiba\" ...\n",
            " $ pais       : chr [1:30] \"Brasil\" \"Brasil\" \"Brasil\" \"Brasil\" ...\n",
            " $ sono_total : num [1:30] 12.1 17 14.4 14.9 4 14.4 8.7 7 10.1 3 ...\n",
            " $ sono_ciclo : num [1:30] NA NA NA 0.133 0.667 ...\n",
            " $ sono_indice: num [1:30] 11.9 7 9.6 9.1 20 9.6 15.3 17 13.9 21 ...\n",
            " $ peso       : num [1:30] 50 72 63 67 49 56 58 90 101 95 ...\n",
            " - attr(*, \"spec\")=\n",
            "  .. cols(\n",
            "  ..   nome = col_character(),\n",
            "  ..   cidade = col_character(),\n",
            "  ..   pais = col_character(),\n",
            "  ..   sono_total = col_double(),\n",
            "  ..   sono_ciclo = col_double(),\n",
            "  ..   sono_indice = col_double(),\n",
            "  ..   peso = col_double()\n",
            "  .. )\n"
          ],
          "name": "stdout"
        }
      ]
    },
    {
      "cell_type": "code",
      "metadata": {
        "id": "O72i6jZCKMo1",
        "colab_type": "code",
        "outputId": "ddd13aac-765a-4bf3-a055-5425603ecc49",
        "colab": {
          "base_uri": "https://localhost:8080/",
          "height": 168
        }
      },
      "source": [
        "%%R\n",
        "# Função glimpse() pode ser usada no lugar da função str()\n",
        "# Imprime já no formato do objeto tbldf ('dataframe')\n",
        "glimpse(sono_df)"
      ],
      "execution_count": 65,
      "outputs": [
        {
          "output_type": "stream",
          "text": [
            "Rows: 30\n",
            "Columns: 7\n",
            "$ nome        <chr> \"Breno\", \"Monica\", \"Tiago\", \"Fernando\", \"Matias\", \"Carlos…\n",
            "$ cidade      <chr> \"Recife\", \"Fortaleza\", \"Goiania\", \"Curitiba\", \"Recife\", \"…\n",
            "$ pais        <chr> \"Brasil\", \"Brasil\", \"Brasil\", \"Brasil\", \"Brasil\", \"Brasil…\n",
            "$ sono_total  <dbl> 12.1, 17.0, 14.4, 14.9, 4.0, 14.4, 8.7, 7.0, 10.1, 3.0, 5…\n",
            "$ sono_ciclo  <dbl> NA, NA, NA, 0.1333333, 0.6666667, 0.7666667, 0.3833333, N…\n",
            "$ sono_indice <dbl> 11.9, 7.0, 9.6, 9.1, 20.0, 9.6, 15.3, 17.0, 13.9, 21.0, 1…\n",
            "$ peso        <dbl> 50, 72, 63, 67, 49, 56, 58, 90, 101, 95, 56, 62, 69, 67, …\n"
          ],
          "name": "stdout"
        }
      ]
    },
    {
      "cell_type": "markdown",
      "metadata": {
        "id": "_COwmFDTNwBl",
        "colab_type": "text"
      },
      "source": [
        "v"
      ]
    },
    {
      "cell_type": "code",
      "metadata": {
        "id": "1kYIZERiKXff",
        "colab_type": "code",
        "outputId": "8e3aa8ab-e6e5-4e99-9b1c-469e41f8eab8",
        "colab": {
          "base_uri": "https://localhost:8080/",
          "height": 185
        }
      },
      "source": [
        "%%R\n",
        "# Aplicando mutate junto a glimpse\n",
        "# A função glimpse pega o dataframe, aplica uma nova coluna com uma operação através do mutate\n",
        "glimpse(mutate(sono_df, peso_libras = sono_total / 0.45359237))\n"
      ],
      "execution_count": 66,
      "outputs": [
        {
          "output_type": "stream",
          "text": [
            "Rows: 30\n",
            "Columns: 8\n",
            "$ nome        <chr> \"Breno\", \"Monica\", \"Tiago\", \"Fernando\", \"Matias\", \"Carlos…\n",
            "$ cidade      <chr> \"Recife\", \"Fortaleza\", \"Goiania\", \"Curitiba\", \"Recife\", \"…\n",
            "$ pais        <chr> \"Brasil\", \"Brasil\", \"Brasil\", \"Brasil\", \"Brasil\", \"Brasil…\n",
            "$ sono_total  <dbl> 12.1, 17.0, 14.4, 14.9, 4.0, 14.4, 8.7, 7.0, 10.1, 3.0, 5…\n",
            "$ sono_ciclo  <dbl> NA, NA, NA, 0.1333333, 0.6666667, 0.7666667, 0.3833333, N…\n",
            "$ sono_indice <dbl> 11.9, 7.0, 9.6, 9.1, 20.0, 9.6, 15.3, 17.0, 13.9, 21.0, 1…\n",
            "$ peso        <dbl> 50, 72, 63, 67, 49, 56, 58, 90, 101, 95, 56, 62, 69, 67, …\n",
            "$ peso_libras <dbl> 26.675934, 37.478585, 31.746566, 32.848877, 8.818490, 31.…\n"
          ],
          "name": "stdout"
        }
      ]
    },
    {
      "cell_type": "markdown",
      "metadata": {
        "id": "WkwEjAjNX74K",
        "colab_type": "text"
      },
      "source": [
        ""
      ]
    },
    {
      "cell_type": "code",
      "metadata": {
        "id": "Qy_AlBiCKXjE",
        "colab_type": "code",
        "outputId": "d2da86e6-ce1c-4631-f03c-f4a6bc0fd270",
        "colab": {
          "base_uri": "https://localhost:8080/",
          "height": 252
        }
      },
      "source": [
        "%%R\n",
        "count(sono_df, cidade) # contagem de quantos registros por cidade\n"
      ],
      "execution_count": 67,
      "outputs": [
        {
          "output_type": "stream",
          "text": [
            "# A tibble: 11 x 2\n",
            "   cidade             n\n",
            "   <chr>          <int>\n",
            " 1 Belo Horizonte     2\n",
            " 2 Blumenau           3\n",
            " 3 Buenos Aires       6\n",
            " 4 Capri              1\n",
            " 5 Curitiba           2\n",
            " 6 Fortaleza          1\n",
            " 7 Goiania            2\n",
            " 8 Maceio             5\n",
            " 9 Porto Alegre       3\n",
            "10 Recife             4\n",
            "11 Rio de Janeiro     1\n"
          ],
          "name": "stdout"
        }
      ]
    },
    {
      "cell_type": "code",
      "metadata": {
        "id": "C8yD2U2xKXpi",
        "colab_type": "code",
        "outputId": "03149f96-ad29-4545-fbf9-489371471625",
        "colab": {
          "base_uri": "https://localhost:8080/",
          "height": 497
        }
      },
      "source": [
        "%%R \n",
        "hist(sono_df$sono_total)"
      ],
      "execution_count": 68,
      "outputs": [
        {
          "output_type": "display_data",
          "data": {
            "image/png": "[encoded data removed]"
          },
          "metadata": {
            "tags": []
          }
        }
      ]
    },
    {
      "cell_type": "code",
      "metadata": {
        "id": "Zuk5jpfXKXmN",
        "colab_type": "code",
        "outputId": "24bb60e7-cc0a-4b96-f5c7-509fd270b074",
        "colab": {
          "base_uri": "https://localhost:8080/",
          "height": 235
        }
      },
      "source": [
        "%%R\n",
        "# Amostragem de tamanho 10 a partir do dataset original\n",
        "sample_n(sono_df, size = 10)\n"
      ],
      "execution_count": 69,
      "outputs": [
        {
          "output_type": "stream",
          "text": [
            "# A tibble: 10 x 7\n",
            "   nome     cidade       pais      sono_total sono_ciclo sono_indice  peso\n",
            "   <chr>    <chr>        <chr>          <dbl>      <dbl>       <dbl> <dbl>\n",
            " 1 Carlos   Recife       Brasil          14.4      0.767         9.6    56\n",
            " 2 Magda    Maceio       Brasil           9.1      0.15         14.9    58\n",
            " 3 Flavio   Blumenau     Brasil          10       NA            14      69\n",
            " 4 Leslie   Curitiba     Brasil           2.9      1            21.1    88\n",
            " 5 Abel     Buenos Aires Argentina       10.3     NA            13.7    66\n",
            " 6 Abelardo Buenos Aires Argentina        3.1     NA            20.9   102\n",
            " 7 Tiago    Goiania      Brasil          14.4     NA             9.6    63\n",
            " 8 Natacha  Blumenau     Brasil           9.4      0.217        14.6    62\n",
            " 9 Galago   Buenos Aires Argentina        9.8      0.55         14.2    71\n",
            "10 Sandro   Maceio       Brasil          18        0.333         6      78\n"
          ],
          "name": "stdout"
        }
      ]
    },
    {
      "cell_type": "markdown",
      "metadata": {
        "id": "a-hnLe92X2OJ",
        "colab_type": "text"
      },
      "source": [
        "---"
      ]
    },
    {
      "cell_type": "markdown",
      "metadata": {
        "id": "L3-Y9uACPXl8",
        "colab_type": "text"
      },
      "source": [
        "#**Select()**  - {dplyr}"
      ]
    },
    {
      "cell_type": "code",
      "metadata": {
        "id": "ac39LBtRKXvH",
        "colab_type": "code",
        "outputId": "2a14183f-0151-437e-9e4f-43d180138e74",
        "colab": {
          "base_uri": "https://localhost:8080/",
          "height": 252
        }
      },
      "source": [
        "%%R \n",
        "# select()\n",
        "sleepData <- select(sono_df, nome, sono_total) #selecionando nome, sono_total e atribuir a sleepData\n",
        "head(sleepData)\n",
        "class(sleepData)\n",
        "select(sono_df, nome)\n",
        "select(sono_df, nome:cidade)\n",
        "select(sono_df, nome:pais) # retornar um range de colunas, a partir de nome até país. "
      ],
      "execution_count": 70,
      "outputs": [
        {
          "output_type": "stream",
          "text": [
            "# A tibble: 30 x 3\n",
            "   nome     cidade         pais  \n",
            "   <chr>    <chr>          <chr> \n",
            " 1 Breno    Recife         Brasil\n",
            " 2 Monica   Fortaleza      Brasil\n",
            " 3 Tiago    Goiania        Brasil\n",
            " 4 Fernando Curitiba       Brasil\n",
            " 5 Matias   Recife         Brasil\n",
            " 6 Carlos   Recife         Brasil\n",
            " 7 Josias   Rio de Janeiro Brasil\n",
            " 8 Marta    Porto Alegre   Brasil\n",
            " 9 Carolina Porto Alegre   Brasil\n",
            "10 Keyla    Porto Alegre   Brasil\n",
            "# … with 20 more rows\n"
          ],
          "name": "stdout"
        }
      ]
    },
    {
      "cell_type": "markdown",
      "metadata": {
        "id": "KvhNDXD3X1Mq",
        "colab_type": "text"
      },
      "source": [
        "---"
      ]
    },
    {
      "cell_type": "markdown",
      "metadata": {
        "id": "ZHKCu8jqPmKF",
        "colab_type": "text"
      },
      "source": [
        "#**Filter()**  - {dplyr}"
      ]
    },
    {
      "cell_type": "code",
      "metadata": {
        "id": "BMW9nbWHKX48",
        "colab_type": "code",
        "outputId": "07b133dd-c805-45ed-d9d9-583425e2c197",
        "colab": {
          "base_uri": "https://localhost:8080/",
          "height": 134
        }
      },
      "source": [
        "%%R\n",
        "filter(sono_df, sono_total >= 16)"
      ],
      "execution_count": 71,
      "outputs": [
        {
          "output_type": "stream",
          "text": [
            "# A tibble: 4 x 7\n",
            "  nome     cidade    pais   sono_total sono_ciclo sono_indice  peso\n",
            "  <chr>    <chr>     <chr>       <dbl>      <dbl>       <dbl> <dbl>\n",
            "1 Monica   Fortaleza Brasil       17       NA             7      72\n",
            "2 Leonardo Maceio    Brasil       17.4      0.383         6.6    70\n",
            "3 Sandro   Maceio    Brasil       18        0.333         6      78\n",
            "4 Raisa    Maceio    Brasil       19.7      0.117         4.3    88\n"
          ],
          "name": "stdout"
        }
      ]
    },
    {
      "cell_type": "code",
      "metadata": {
        "id": "3uDSiravQEJL",
        "colab_type": "code",
        "outputId": "d92d9999-86c2-4e42-f049-a4cba718e8e1",
        "colab": {
          "base_uri": "https://localhost:8080/",
          "height": 84
        }
      },
      "source": [
        "%%R\n",
        "filter(sono_df, sono_total >= 16, peso >= 80)"
      ],
      "execution_count": 72,
      "outputs": [
        {
          "output_type": "stream",
          "text": [
            "# A tibble: 1 x 7\n",
            "  nome  cidade pais   sono_total sono_ciclo sono_indice  peso\n",
            "  <chr> <chr>  <chr>       <dbl>      <dbl>       <dbl> <dbl>\n",
            "1 Raisa Maceio Brasil       19.7      0.117         4.3    88\n"
          ],
          "name": "stdout"
        }
      ]
    },
    {
      "cell_type": "code",
      "metadata": {
        "id": "nQQ64PjXQEMS",
        "colab_type": "code",
        "outputId": "dc833dae-05e9-4f4c-f458-11420567f735",
        "colab": {
          "base_uri": "https://localhost:8080/",
          "height": 168
        }
      },
      "source": [
        "%%R\n",
        "filter(sono_df, cidade %in% c(\"Recife\", \"Curitiba\"))\n",
        "#pesquisar em cidade apenas valores Recife e Curitiba\n",
        "#aplicando SQL em R"
      ],
      "execution_count": 73,
      "outputs": [
        {
          "output_type": "stream",
          "text": [
            "# A tibble: 6 x 7\n",
            "  nome     cidade   pais   sono_total sono_ciclo sono_indice  peso\n",
            "  <chr>    <chr>    <chr>       <dbl>      <dbl>       <dbl> <dbl>\n",
            "1 Breno    Recife   Brasil       12.1     NA            11.9    50\n",
            "2 Fernando Curitiba Brasil       14.9      0.133         9.1    67\n",
            "3 Matias   Recife   Brasil        4        0.667        20      49\n",
            "4 Carlos   Recife   Brasil       14.4      0.767         9.6    56\n",
            "5 Leslie   Curitiba Brasil        2.9      1            21.1    88\n",
            "6 Nadia    Recife   Brasil       10.1      0.283        13.9   120\n"
          ],
          "name": "stdout"
        }
      ]
    },
    {
      "cell_type": "markdown",
      "metadata": {
        "id": "akzjFb13Xz7E",
        "colab_type": "text"
      },
      "source": [
        "---"
      ]
    },
    {
      "cell_type": "markdown",
      "metadata": {
        "id": "SpAULrISQZAA",
        "colab_type": "text"
      },
      "source": [
        "#**Arrange()** - {dplyr}"
      ]
    },
    {
      "cell_type": "code",
      "metadata": {
        "id": "yURHE1d7Qc9n",
        "colab_type": "code",
        "outputId": "6f0076a2-4d9a-49a9-acc4-0195d2a6f43e",
        "colab": {
          "base_uri": "https://localhost:8080/",
          "height": 168
        }
      },
      "source": [
        "%%R\n",
        "#arrange()\n",
        "sono_df %>% #operador de concatenação de operações\n",
        "arrange(cidade) %>% head"
      ],
      "execution_count": 74,
      "outputs": [
        {
          "output_type": "stream",
          "text": [
            "# A tibble: 6 x 7\n",
            "  nome    cidade         pais      sono_total sono_ciclo sono_indice  peso\n",
            "  <chr>   <chr>          <chr>          <dbl>      <dbl>       <dbl> <dbl>\n",
            "1 Lais    Belo Horizonte Brasil          14.9     NA             9.1    96\n",
            "2 Larissa Belo Horizonte Brasil          12.5      0.417        11.5    58\n",
            "3 Natacha Blumenau       Brasil           9.4      0.217        14.6    62\n",
            "4 Flavio  Blumenau       Brasil          10       NA            14      69\n",
            "5 Natalia Blumenau       Brasil          12.5      0.117        11.5    67\n",
            "6 Abel    Buenos Aires   Argentina       10.3     NA            13.7    66\n"
          ],
          "name": "stdout"
        }
      ]
    },
    {
      "cell_type": "code",
      "metadata": {
        "id": "e40zWZfSQm3G",
        "colab_type": "code",
        "outputId": "b0384ed2-f27c-42c7-b0fa-94ec69915491",
        "colab": {
          "base_uri": "https://localhost:8080/",
          "height": 168
        }
      },
      "source": [
        "%%R\n",
        "sono_df %>% \n",
        "  select(nome, cidade, sono_total) %>% #select\n",
        "  arrange(cidade, sono_total) %>% #arrange\n",
        "  head #head"
      ],
      "execution_count": 75,
      "outputs": [
        {
          "output_type": "stream",
          "text": [
            "# A tibble: 6 x 3\n",
            "  nome     cidade         sono_total\n",
            "  <chr>    <chr>               <dbl>\n",
            "1 Larissa  Belo Horizonte       12.5\n",
            "2 Lais     Belo Horizonte       14.9\n",
            "3 Natacha  Blumenau              9.4\n",
            "4 Flavio   Blumenau             10  \n",
            "5 Natalia  Blumenau             12.5\n",
            "6 Abelardo Buenos Aires          3.1\n"
          ],
          "name": "stdout"
        }
      ]
    },
    {
      "cell_type": "code",
      "metadata": {
        "id": "1G9lwFpkQm60",
        "colab_type": "code",
        "outputId": "4329e90a-b376-44a0-c3c1-42a8ae8634ac",
        "colab": {
          "base_uri": "https://localhost:8080/",
          "height": 134
        }
      },
      "source": [
        "%%R\n",
        "sono_df %>% \n",
        "  select(nome, cidade, sono_total) %>% #select\n",
        "  arrange(cidade, sono_total) %>% #arrange\n",
        "  filter(sono_total >= 16) #filter"
      ],
      "execution_count": 76,
      "outputs": [
        {
          "output_type": "stream",
          "text": [
            "# A tibble: 4 x 3\n",
            "  nome     cidade    sono_total\n",
            "  <chr>    <chr>          <dbl>\n",
            "1 Monica   Fortaleza       17  \n",
            "2 Leonardo Maceio          17.4\n",
            "3 Sandro   Maceio          18  \n",
            "4 Raisa    Maceio          19.7\n"
          ],
          "name": "stdout"
        }
      ]
    },
    {
      "cell_type": "code",
      "metadata": {
        "id": "4XaXDhBGR3RL",
        "colab_type": "code",
        "outputId": "f9b53f14-4d36-4a77-e618-609a6a67e806",
        "colab": {
          "base_uri": "https://localhost:8080/",
          "height": 134
        }
      },
      "source": [
        "%%R\n",
        "sono_df %>% \n",
        "  select(nome, cidade, sono_total) %>% #select\n",
        "  arrange(cidade, desc(sono_total)) %>% #arrange desc\n",
        "  filter(sono_total >= 16) # filter"
      ],
      "execution_count": 77,
      "outputs": [
        {
          "output_type": "stream",
          "text": [
            "# A tibble: 4 x 3\n",
            "  nome     cidade    sono_total\n",
            "  <chr>    <chr>          <dbl>\n",
            "1 Monica   Fortaleza       17  \n",
            "2 Raisa    Maceio          19.7\n",
            "3 Sandro   Maceio          18  \n",
            "4 Leonardo Maceio          17.4\n"
          ],
          "name": "stdout"
        }
      ]
    },
    {
      "cell_type": "markdown",
      "metadata": {
        "id": "fyJl0RQESZyK",
        "colab_type": "text"
      },
      "source": [
        "---"
      ]
    },
    {
      "cell_type": "markdown",
      "metadata": {
        "id": "sbO8cdDvSjb0",
        "colab_type": "text"
      },
      "source": [
        "#**Mutate()**  - {dplyr}"
      ]
    },
    {
      "cell_type": "code",
      "metadata": {
        "id": "0LY4Q9lFSmne",
        "colab_type": "code",
        "outputId": "4da5e35d-0026-47f0-f572-6eaca3813332",
        "colab": {
          "base_uri": "https://localhost:8080/",
          "height": 168
        }
      },
      "source": [
        "%%R\n",
        "sono_df %>% \n",
        "  mutate(novo_indice = sono_total / peso) %>% #mutate mostra 1 novo campo em tempo de execução sem alterar dataframe\n",
        "  head #head"
      ],
      "execution_count": 78,
      "outputs": [
        {
          "output_type": "stream",
          "text": [
            "# A tibble: 6 x 8\n",
            "  nome     cidade    pais   sono_total sono_ciclo sono_indice  peso novo_indice\n",
            "  <chr>    <chr>     <chr>       <dbl>      <dbl>       <dbl> <dbl>       <dbl>\n",
            "1 Breno    Recife    Brasil       12.1     NA            11.9    50      0.242 \n",
            "2 Monica   Fortaleza Brasil       17       NA             7      72      0.236 \n",
            "3 Tiago    Goiania   Brasil       14.4     NA             9.6    63      0.229 \n",
            "4 Fernando Curitiba  Brasil       14.9      0.133         9.1    67      0.222 \n",
            "5 Matias   Recife    Brasil        4        0.667        20      49      0.0816\n",
            "6 Carlos   Recife    Brasil       14.4      0.767         9.6    56      0.257 \n"
          ],
          "name": "stdout"
        }
      ]
    },
    {
      "cell_type": "code",
      "metadata": {
        "id": "yCIOuDz1SsEE",
        "colab_type": "code",
        "outputId": "a90b3bc9-98ac-45f0-cfc5-d2f8792e2f7e",
        "colab": {
          "base_uri": "https://localhost:8080/",
          "height": 185
        }
      },
      "source": [
        "%%R\n",
        "sono_df %>% \n",
        "  mutate(novo_indice = sono_total / peso, peso_libras = peso / 0.45359237) %>% #mutate mostra 2 novos campo em tempo de execução sem alterar dataframe\n",
        "  head #head"
      ],
      "execution_count": 79,
      "outputs": [
        {
          "output_type": "stream",
          "text": [
            "# A tibble: 6 x 9\n",
            "  nome  cidade pais  sono_total sono_ciclo sono_indice  peso novo_indice\n",
            "  <chr> <chr>  <chr>      <dbl>      <dbl>       <dbl> <dbl>       <dbl>\n",
            "1 Breno Recife Bras…       12.1     NA            11.9    50      0.242 \n",
            "2 Moni… Forta… Bras…       17       NA             7      72      0.236 \n",
            "3 Tiago Goian… Bras…       14.4     NA             9.6    63      0.229 \n",
            "4 Fern… Curit… Bras…       14.9      0.133         9.1    67      0.222 \n",
            "5 Mati… Recife Bras…        4        0.667        20      49      0.0816\n",
            "6 Carl… Recife Bras…       14.4      0.767         9.6    56      0.257 \n",
            "# … with 1 more variable: peso_libras <dbl>\n"
          ],
          "name": "stdout"
        }
      ]
    },
    {
      "cell_type": "markdown",
      "metadata": {
        "id": "dGahk6mhXyB7",
        "colab_type": "text"
      },
      "source": [
        "---"
      ]
    },
    {
      "cell_type": "markdown",
      "metadata": {
        "id": "EMP3-ihGTOOl",
        "colab_type": "text"
      },
      "source": [
        "#**Summarise()** - {dplyr}"
      ]
    },
    {
      "cell_type": "code",
      "metadata": {
        "id": "2PL24PEITYF0",
        "colab_type": "code",
        "outputId": "33e295ce-07cd-4b1e-a0ed-e4a1c71e188d",
        "colab": {
          "base_uri": "https://localhost:8080/",
          "height": 84
        }
      },
      "source": [
        "%%R\n",
        "sono_df %>% \n",
        "  summarise(media_sono = mean(sono_total)) #summarise + mean\n"
      ],
      "execution_count": 80,
      "outputs": [
        {
          "output_type": "stream",
          "text": [
            "# A tibble: 1 x 1\n",
            "  media_sono\n",
            "       <dbl>\n",
            "1       10.3\n"
          ],
          "name": "stdout"
        }
      ]
    },
    {
      "cell_type": "code",
      "metadata": {
        "id": "uBfFdpVoTW7u",
        "colab_type": "code",
        "outputId": "d10a53c5-3819-4428-9427-3e97628373da",
        "colab": {
          "base_uri": "https://localhost:8080/",
          "height": 84
        }
      },
      "source": [
        "%%R\n",
        "sono_df %>% \n",
        "  summarise(media_sono = mean(sono_total), #summarise + mean\n",
        "            min_sono = min(sono_total), #min\n",
        "            max_sono = max(sono_total), #max\n",
        "            total = n()) #n"
      ],
      "execution_count": 81,
      "outputs": [
        {
          "output_type": "stream",
          "text": [
            "# A tibble: 1 x 4\n",
            "  media_sono min_sono max_sono total\n",
            "       <dbl>    <dbl>    <dbl> <int>\n",
            "1       10.3      2.9     19.7    30\n"
          ],
          "name": "stdout"
        }
      ]
    },
    {
      "cell_type": "markdown",
      "metadata": {
        "id": "MJ8YEAusXw2a",
        "colab_type": "text"
      },
      "source": [
        "---"
      ]
    },
    {
      "cell_type": "markdown",
      "metadata": {
        "id": "OAIBsbvVTj_y",
        "colab_type": "text"
      },
      "source": [
        "#**Group_By()**  - {dplyr}\n",
        "## Antes agrupamento e depois sumarização "
      ]
    },
    {
      "cell_type": "code",
      "metadata": {
        "id": "o3ZunifdTp_0",
        "colab_type": "code",
        "outputId": "4ff91add-858a-4645-b6d6-7cb4950a4c02",
        "colab": {
          "base_uri": "https://localhost:8080/",
          "height": 252
        }
      },
      "source": [
        "%%R\n",
        "sono_df %>% \n",
        "  group_by(cidade) %>%  #group_by - agrupado por cidade\n",
        "  summarise(avg_sono = mean(sono_total), #summarise\n",
        "            min_sono = min(sono_total), #min\n",
        "            max_sono = max(sono_total), #max\n",
        "            total = n()) #n "
      ],
      "execution_count": 82,
      "outputs": [
        {
          "output_type": "stream",
          "text": [
            "# A tibble: 11 x 5\n",
            "   cidade         avg_sono min_sono max_sono total\n",
            "   <chr>             <dbl>    <dbl>    <dbl> <int>\n",
            " 1 Belo Horizonte    13.7      12.5     14.9     2\n",
            " 2 Blumenau          10.6       9.4     12.5     3\n",
            " 3 Buenos Aires       7.77      3.1     10.3     6\n",
            " 4 Capri              5.3       5.3      5.3     1\n",
            " 5 Curitiba           8.9       2.9     14.9     2\n",
            " 6 Fortaleza         17        17       17       1\n",
            " 7 Goiania           12.6      10.9     14.4     2\n",
            " 8 Maceio            13.6       3.9     19.7     5\n",
            " 9 Porto Alegre       6.7       3       10.1     3\n",
            "10 Recife            10.2       4       14.4     4\n",
            "11 Rio de Janeiro     8.7       8.7      8.7     1\n"
          ],
          "name": "stdout"
        }
      ]
    },
    {
      "cell_type": "markdown",
      "metadata": {
        "id": "tKhZKbr5Ycva",
        "colab_type": "text"
      },
      "source": [
        "---"
      ]
    },
    {
      "cell_type": "markdown",
      "metadata": {
        "id": "_9JYlIkgYctw",
        "colab_type": "text"
      },
      "source": [
        ""
      ]
    },
    {
      "cell_type": "markdown",
      "metadata": {
        "id": "Mywta5VWVf7m",
        "colab_type": "text"
      },
      "source": [
        "#**Operador: %>%** - {dplyr}"
      ]
    },
    {
      "cell_type": "code",
      "metadata": {
        "id": "dpBbYoL6Vuf8",
        "colab_type": "code",
        "outputId": "4d00611d-75e5-45b5-a5b6-00d906cf0b4a",
        "colab": {
          "base_uri": "https://localhost:8080/",
          "height": 34
        }
      },
      "source": [
        "%%R #notação comum\n",
        "head(select(sono_df, nome, sono_total))"
      ],
      "execution_count": 83,
      "outputs": [
        {
          "output_type": "stream",
          "text": [
            "NULL\n"
          ],
          "name": "stdout"
        }
      ]
    },
    {
      "cell_type": "code",
      "metadata": {
        "id": "cvNOZxKBWqTj",
        "colab_type": "code",
        "outputId": "1fb9b694-cc41-4458-b602-557a726c1845",
        "colab": {
          "base_uri": "https://localhost:8080/",
          "height": 168
        }
      },
      "source": [
        "%%R\n",
        "sono_df %>% #outra notação para o mesmo comando anterior sem o pipe\n",
        "  select(nome, sono_total) %>% \n",
        "  head"
      ],
      "execution_count": 84,
      "outputs": [
        {
          "output_type": "stream",
          "text": [
            "# A tibble: 6 x 2\n",
            "  nome     sono_total\n",
            "  <chr>         <dbl>\n",
            "1 Breno          12.1\n",
            "2 Monica         17  \n",
            "3 Tiago          14.4\n",
            "4 Fernando       14.9\n",
            "5 Matias          4  \n",
            "6 Carlos         14.4\n"
          ],
          "name": "stdout"
        }
      ]
    },
    {
      "cell_type": "code",
      "metadata": {
        "id": "cqS-h5yaWqXF",
        "colab_type": "code",
        "outputId": "37d974fe-d701-43d6-ee35-12f17fd08cf1",
        "colab": {
          "base_uri": "https://localhost:8080/",
          "height": 252
        }
      },
      "source": [
        "%%R\n",
        "sono_df %>%\n",
        "  mutate(novo_indice = round(sono_total * peso)) %>%  #mutate + round\n",
        "  arrange(desc(novo_indice)) %>% #arrange + desd\n",
        "  select(cidade, novo_indice) #select "
      ],
      "execution_count": 85,
      "outputs": [
        {
          "output_type": "stream",
          "text": [
            "# A tibble: 30 x 2\n",
            "   cidade         novo_indice\n",
            "   <chr>                <dbl>\n",
            " 1 Maceio                1734\n",
            " 2 Belo Horizonte        1430\n",
            " 3 Maceio                1404\n",
            " 4 Fortaleza             1224\n",
            " 5 Maceio                1218\n",
            " 6 Recife                1212\n",
            " 7 Porto Alegre          1020\n",
            " 8 Curitiba               998\n",
            " 9 Goiania                981\n",
            "10 Goiania                907\n",
            "# … with 20 more rows\n"
          ],
          "name": "stdout"
        }
      ]
    },
    {
      "cell_type": "code",
      "metadata": {
        "id": "iexMG0RwWqYo",
        "colab_type": "code",
        "outputId": "dbeb02df-761e-4305-f12f-4f026d3d3e98",
        "colab": {
          "base_uri": "https://localhost:8080/",
          "height": 252
        }
      },
      "source": [
        "%%R\n",
        "sono_df"
      ],
      "execution_count": 86,
      "outputs": [
        {
          "output_type": "stream",
          "text": [
            "# A tibble: 30 x 7\n",
            "   nome     cidade         pais   sono_total sono_ciclo sono_indice  peso\n",
            "   <chr>    <chr>          <chr>       <dbl>      <dbl>       <dbl> <dbl>\n",
            " 1 Breno    Recife         Brasil       12.1     NA            11.9    50\n",
            " 2 Monica   Fortaleza      Brasil       17       NA             7      72\n",
            " 3 Tiago    Goiania        Brasil       14.4     NA             9.6    63\n",
            " 4 Fernando Curitiba       Brasil       14.9      0.133         9.1    67\n",
            " 5 Matias   Recife         Brasil        4        0.667        20      49\n",
            " 6 Carlos   Recife         Brasil       14.4      0.767         9.6    56\n",
            " 7 Josias   Rio de Janeiro Brasil        8.7      0.383        15.3    58\n",
            " 8 Marta    Porto Alegre   Brasil        7       NA            17      90\n",
            " 9 Carolina Porto Alegre   Brasil       10.1      0.333        13.9   101\n",
            "10 Keyla    Porto Alegre   Brasil        3       NA            21      95\n",
            "# … with 20 more rows\n"
          ],
          "name": "stdout"
        }
      ]
    },
    {
      "cell_type": "code",
      "metadata": {
        "id": "sF7LLrBuWqSA",
        "colab_type": "code",
        "colab": {}
      },
      "source": [
        "%%R\n",
        "sono_df2 <- sono_df %>%\n",
        "  mutate(novo_indice = round(sono_total * peso)) %>%\n",
        "  arrange(desc(novo_indice)) %>%\n",
        "  select(cidade, novo_indice)"
      ],
      "execution_count": 0,
      "outputs": []
    },
    {
      "cell_type": "markdown",
      "metadata": {
        "id": "vt6s-sqjft6g",
        "colab_type": "text"
      },
      "source": [
        "\n",
        "\n",
        "---\n",
        "\n"
      ]
    },
    {
      "cell_type": "markdown",
      "metadata": {
        "id": "VmtKp3t3dujb",
        "colab_type": "text"
      },
      "source": [
        "---\n"
      ]
    },
    {
      "cell_type": "markdown",
      "metadata": {
        "id": "nDDwsL6sb8SX",
        "colab_type": "text"
      },
      "source": [
        "#**Estudo de caso** - {dplyr & hflights}\n",
        "## Limpando, Transformando e Manipulando Dados de Voos"
      ]
    },
    {
      "cell_type": "code",
      "metadata": {
        "id": "u6lbzfYecJkp",
        "colab_type": "code",
        "colab": {}
      },
      "source": [
        "%%R\n",
        "install.packages(\"hflights\")\n",
        "library(hflights)\n",
        "library(dplyr)"
      ],
      "execution_count": 0,
      "outputs": []
    },
    {
      "cell_type": "markdown",
      "metadata": {
        "id": "4EnylzqxfoP4",
        "colab_type": "text"
      },
      "source": [
        "\n",
        "\n",
        "---\n",
        "\n"
      ]
    },
    {
      "cell_type": "markdown",
      "metadata": {
        "id": "o2C3zruseSpz",
        "colab_type": "text"
      },
      "source": [
        "#**tbl_df()** - {dplyr}\n",
        "## 1. Criando objeto Tibble DataFrame"
      ]
    },
    {
      "cell_type": "code",
      "metadata": {
        "id": "t8blWoSweBHa",
        "colab_type": "code",
        "colab": {}
      },
      "source": [
        "%%R\n",
        "flights <- tbl_df(hflights)"
      ],
      "execution_count": 0,
      "outputs": []
    },
    {
      "cell_type": "markdown",
      "metadata": {
        "id": "kYGybArCf7-J",
        "colab_type": "text"
      },
      "source": [
        "#**glimpse()**\n",
        "## 2. Resumindo dados, tipos e dimensão "
      ]
    },
    {
      "cell_type": "code",
      "metadata": {
        "id": "V1qaeCF2eBNY",
        "colab_type": "code",
        "outputId": "b0108ff9-296e-46ed-e271-67d90406a1ca",
        "colab": {
          "base_uri": "https://localhost:8080/",
          "height": 403
        }
      },
      "source": [
        "%%R \n",
        "glimpse(flights)"
      ],
      "execution_count": 90,
      "outputs": [
        {
          "output_type": "stream",
          "text": [
            "Rows: 227,496\n",
            "Columns: 21\n",
            "$ Year              <int> 2011, 2011, 2011, 2011, 2011, 2011, 2011, 2011, 201…\n",
            "$ Month             <int> 1, 1, 1, 1, 1, 1, 1, 1, 1, 1, 1, 1, 1, 1, 1, 1, 1, …\n",
            "$ DayofMonth        <int> 1, 2, 3, 4, 5, 6, 7, 8, 9, 10, 11, 12, 13, 14, 15, …\n",
            "$ DayOfWeek         <int> 6, 7, 1, 2, 3, 4, 5, 6, 7, 1, 2, 3, 4, 5, 6, 7, 1, …\n",
            "$ DepTime           <int> 1400, 1401, 1352, 1403, 1405, 1359, 1359, 1355, 144…\n",
            "$ ArrTime           <int> 1500, 1501, 1502, 1513, 1507, 1503, 1509, 1454, 155…\n",
            "$ UniqueCarrier     <chr> \"AA\", \"AA\", \"AA\", \"AA\", \"AA\", \"AA\", \"AA\", \"AA\", \"AA…\n",
            "$ FlightNum         <int> 428, 428, 428, 428, 428, 428, 428, 428, 428, 428, 4…\n",
            "$ TailNum           <chr> \"N576AA\", \"N557AA\", \"N541AA\", \"N403AA\", \"N492AA\", \"…\n",
            "$ ActualElapsedTime <int> 60, 60, 70, 70, 62, 64, 70, 59, 71, 70, 70, 56, 63,…\n",
            "$ AirTime           <int> 40, 45, 48, 39, 44, 45, 43, 40, 41, 45, 42, 41, 44,…\n",
            "$ ArrDelay          <int> -10, -9, -8, 3, -3, -7, -1, -16, 44, 43, 29, 5, -9,…\n",
            "$ DepDelay          <int> 0, 1, -8, 3, 5, -1, -1, -5, 43, 43, 29, 19, -2, -3,…\n",
            "$ Origin            <chr> \"IAH\", \"IAH\", \"IAH\", \"IAH\", \"IAH\", \"IAH\", \"IAH\", \"I…\n",
            "$ Dest              <chr> \"DFW\", \"DFW\", \"DFW\", \"DFW\", \"DFW\", \"DFW\", \"DFW\", \"D…\n",
            "$ Distance          <int> 224, 224, 224, 224, 224, 224, 224, 224, 224, 224, 2…\n",
            "$ TaxiIn            <int> 7, 6, 5, 9, 9, 6, 12, 7, 8, 6, 8, 4, 6, 5, 6, 12, 8…\n",
            "$ TaxiOut           <int> 13, 9, 17, 22, 9, 13, 15, 12, 22, 19, 20, 11, 13, 1…\n",
            "$ Cancelled         <int> 0, 0, 0, 0, 0, 0, 0, 0, 0, 0, 0, 0, 0, 0, 0, 0, 0, …\n",
            "$ CancellationCode  <chr> \"\", \"\", \"\", \"\", \"\", \"\", \"\", \"\", \"\", \"\", \"\", \"\", \"\",…\n",
            "$ Diverted          <int> 0, 0, 0, 0, 0, 0, 0, 0, 0, 0, 0, 0, 0, 0, 0, 0, 0, …\n"
          ],
          "name": "stdout"
        }
      ]
    },
    {
      "cell_type": "markdown",
      "metadata": {
        "id": "ZauE8aDVf23d",
        "colab_type": "text"
      },
      "source": [
        "#**data.frame()**\n",
        "##3.  Visualizando como DataFrame"
      ]
    },
    {
      "cell_type": "code",
      "metadata": {
        "id": "9n08FWORgzQQ",
        "colab_type": "code",
        "outputId": "71a88772-0b8d-41ef-c11c-730e098366cb",
        "colab": {
          "base_uri": "https://localhost:8080/",
          "height": 370
        }
      },
      "source": [
        "%%R\n",
        "data.frame(head(flights))"
      ],
      "execution_count": 91,
      "outputs": [
        {
          "output_type": "stream",
          "text": [
            "  Year Month DayofMonth DayOfWeek DepTime ArrTime UniqueCarrier FlightNum\n",
            "1 2011     1          1         6    1400    1500            AA       428\n",
            "2 2011     1          2         7    1401    1501            AA       428\n",
            "3 2011     1          3         1    1352    1502            AA       428\n",
            "4 2011     1          4         2    1403    1513            AA       428\n",
            "5 2011     1          5         3    1405    1507            AA       428\n",
            "6 2011     1          6         4    1359    1503            AA       428\n",
            "  TailNum ActualElapsedTime AirTime ArrDelay DepDelay Origin Dest Distance\n",
            "1  N576AA                60      40      -10        0    IAH  DFW      224\n",
            "2  N557AA                60      45       -9        1    IAH  DFW      224\n",
            "3  N541AA                70      48       -8       -8    IAH  DFW      224\n",
            "4  N403AA                70      39        3        3    IAH  DFW      224\n",
            "5  N492AA                62      44       -3        5    IAH  DFW      224\n",
            "6  N262AA                64      45       -7       -1    IAH  DFW      224\n",
            "  TaxiIn TaxiOut Cancelled CancellationCode Diverted\n",
            "1      7      13         0                         0\n",
            "2      6       9         0                         0\n",
            "3      5      17         0                         0\n",
            "4      9      22         0                         0\n",
            "5      9       9         0                         0\n",
            "6      6      13         0                         0\n"
          ],
          "name": "stdout"
        }
      ]
    },
    {
      "cell_type": "markdown",
      "metadata": {
        "id": "4STNM8SJinmG",
        "colab_type": "text"
      },
      "source": [
        "# Slicing"
      ]
    },
    {
      "cell_type": "code",
      "metadata": {
        "id": "1O9xg0lYitPe",
        "colab_type": "code",
        "outputId": "be5d9145-f52b-48b7-f7e9-8c7238f08a1f",
        "colab": {
          "base_uri": "https://localhost:8080/",
          "height": 302
        }
      },
      "source": [
        "#filtrando dados com slice\n",
        "%%R\n",
        "flights[flights$Month == 1 & flights$DayofMonth == 1, ] #expresão inteira para retornar as linhas especificas e todas as colunas "
      ],
      "execution_count": 92,
      "outputs": [
        {
          "output_type": "stream",
          "text": [
            "# A tibble: 552 x 21\n",
            "    Year Month DayofMonth DayOfWeek DepTime ArrTime UniqueCarrier FlightNum\n",
            "   <int> <int>      <int>     <int>   <int>   <int> <chr>             <int>\n",
            " 1  2011     1          1         6    1400    1500 AA                  428\n",
            " 2  2011     1          1         6     728     840 AA                  460\n",
            " 3  2011     1          1         6    1631    1736 AA                 1121\n",
            " 4  2011     1          1         6    1756    2112 AA                 1294\n",
            " 5  2011     1          1         6    1012    1347 AA                 1700\n",
            " 6  2011     1          1         6    1211    1325 AA                 1820\n",
            " 7  2011     1          1         6     557     906 AA                 1994\n",
            " 8  2011     1          1         6    1824    2106 AS                  731\n",
            " 9  2011     1          1         6     654    1124 B6                  620\n",
            "10  2011     1          1         6    1639    2110 B6                  622\n",
            "# … with 542 more rows, and 13 more variables: TailNum <chr>,\n",
            "#   ActualElapsedTime <int>, AirTime <int>, ArrDelay <int>, DepDelay <int>,\n",
            "#   Origin <chr>, Dest <chr>, Distance <int>, TaxiIn <int>, TaxiOut <int>,\n",
            "#   Cancelled <int>, CancellationCode <chr>, Diverted <int>\n"
          ],
          "name": "stdout"
        }
      ]
    },
    {
      "cell_type": "markdown",
      "metadata": {
        "id": "rdqI0Jw5mPW8",
        "colab_type": "text"
      },
      "source": [
        "#**filter()** - {dplyr}\n",
        "## Prático"
      ]
    },
    {
      "cell_type": "code",
      "metadata": {
        "id": "FvVC6N1zjaiI",
        "colab_type": "code",
        "outputId": "810a4f01-918d-47fa-8295-bdcd160ebc5f",
        "colab": {
          "base_uri": "https://localhost:8080/",
          "height": 302
        }
      },
      "source": [
        "#aplicando filter \n",
        "%%R\n",
        "filter(flights, Month == 1, DayofMonth == 1 ) #filter + duas regras de filtro"
      ],
      "execution_count": 93,
      "outputs": [
        {
          "output_type": "stream",
          "text": [
            "# A tibble: 552 x 21\n",
            "    Year Month DayofMonth DayOfWeek DepTime ArrTime UniqueCarrier FlightNum\n",
            "   <int> <int>      <int>     <int>   <int>   <int> <chr>             <int>\n",
            " 1  2011     1          1         6    1400    1500 AA                  428\n",
            " 2  2011     1          1         6     728     840 AA                  460\n",
            " 3  2011     1          1         6    1631    1736 AA                 1121\n",
            " 4  2011     1          1         6    1756    2112 AA                 1294\n",
            " 5  2011     1          1         6    1012    1347 AA                 1700\n",
            " 6  2011     1          1         6    1211    1325 AA                 1820\n",
            " 7  2011     1          1         6     557     906 AA                 1994\n",
            " 8  2011     1          1         6    1824    2106 AS                  731\n",
            " 9  2011     1          1         6     654    1124 B6                  620\n",
            "10  2011     1          1         6    1639    2110 B6                  622\n",
            "# … with 542 more rows, and 13 more variables: TailNum <chr>,\n",
            "#   ActualElapsedTime <int>, AirTime <int>, ArrDelay <int>, DepDelay <int>,\n",
            "#   Origin <chr>, Dest <chr>, Distance <int>, TaxiIn <int>, TaxiOut <int>,\n",
            "#   Cancelled <int>, CancellationCode <chr>, Diverted <int>\n"
          ],
          "name": "stdout"
        }
      ]
    },
    {
      "cell_type": "code",
      "metadata": {
        "id": "UWdNDE5Djb_z",
        "colab_type": "code",
        "colab": {
          "base_uri": "https://localhost:8080/",
          "height": 302
        },
        "outputId": "ed920dab-46d7-40d9-e950-d0fe967e9dfc"
      },
      "source": [
        "#aplicando filter\n",
        "%%R\n",
        "filter(flights, UniqueCarrier %in% c(\"AA\", \"UA\"))\n"
      ],
      "execution_count": 94,
      "outputs": [
        {
          "output_type": "stream",
          "text": [
            "# A tibble: 5,316 x 21\n",
            "    Year Month DayofMonth DayOfWeek DepTime ArrTime UniqueCarrier FlightNum\n",
            "   <int> <int>      <int>     <int>   <int>   <int> <chr>             <int>\n",
            " 1  2011     1          1         6    1400    1500 AA                  428\n",
            " 2  2011     1          2         7    1401    1501 AA                  428\n",
            " 3  2011     1          3         1    1352    1502 AA                  428\n",
            " 4  2011     1          4         2    1403    1513 AA                  428\n",
            " 5  2011     1          5         3    1405    1507 AA                  428\n",
            " 6  2011     1          6         4    1359    1503 AA                  428\n",
            " 7  2011     1          7         5    1359    1509 AA                  428\n",
            " 8  2011     1          8         6    1355    1454 AA                  428\n",
            " 9  2011     1          9         7    1443    1554 AA                  428\n",
            "10  2011     1         10         1    1443    1553 AA                  428\n",
            "# … with 5,306 more rows, and 13 more variables: TailNum <chr>,\n",
            "#   ActualElapsedTime <int>, AirTime <int>, ArrDelay <int>, DepDelay <int>,\n",
            "#   Origin <chr>, Dest <chr>, Distance <int>, TaxiIn <int>, TaxiOut <int>,\n",
            "#   Cancelled <int>, CancellationCode <chr>, Diverted <int>\n"
          ],
          "name": "stdout"
        }
      ]
    },
    {
      "cell_type": "code",
      "metadata": {
        "id": "bZxy-KR4jb1M",
        "colab_type": "code",
        "colab": {
          "base_uri": "https://localhost:8080/",
          "height": 302
        },
        "outputId": "48e32496-4b33-457e-ba59-59c8445f1d4b"
      },
      "source": [
        "#aplicando filter\n",
        "%%R\n",
        "filter(flights, UniqueCarrier == \"AA\" | UniqueCarrier == \"UA\")\n",
        "# filtrar apenas aquilo que é importante para nosso trabalho. "
      ],
      "execution_count": 95,
      "outputs": [
        {
          "output_type": "stream",
          "text": [
            "# A tibble: 5,316 x 21\n",
            "    Year Month DayofMonth DayOfWeek DepTime ArrTime UniqueCarrier FlightNum\n",
            "   <int> <int>      <int>     <int>   <int>   <int> <chr>             <int>\n",
            " 1  2011     1          1         6    1400    1500 AA                  428\n",
            " 2  2011     1          2         7    1401    1501 AA                  428\n",
            " 3  2011     1          3         1    1352    1502 AA                  428\n",
            " 4  2011     1          4         2    1403    1513 AA                  428\n",
            " 5  2011     1          5         3    1405    1507 AA                  428\n",
            " 6  2011     1          6         4    1359    1503 AA                  428\n",
            " 7  2011     1          7         5    1359    1509 AA                  428\n",
            " 8  2011     1          8         6    1355    1454 AA                  428\n",
            " 9  2011     1          9         7    1443    1554 AA                  428\n",
            "10  2011     1         10         1    1443    1553 AA                  428\n",
            "# … with 5,306 more rows, and 13 more variables: TailNum <chr>,\n",
            "#   ActualElapsedTime <int>, AirTime <int>, ArrDelay <int>, DepDelay <int>,\n",
            "#   Origin <chr>, Dest <chr>, Distance <int>, TaxiIn <int>, TaxiOut <int>,\n",
            "#   Cancelled <int>, CancellationCode <chr>, Diverted <int>\n"
          ],
          "name": "stdout"
        }
      ]
    },
    {
      "cell_type": "code",
      "metadata": {
        "id": "JyHGjqHEuCW3",
        "colab_type": "code",
        "colab": {
          "base_uri": "https://localhost:8080/",
          "height": 134
        },
        "outputId": "3d31b090-fba4-4fd0-a305-ae994e3e6569"
      },
      "source": [
        "#aplicando filter &\n",
        "%%R\n",
        "filter(flights, UniqueCarrier == \"AA\" & UniqueCarrier == \"UA\")\n",
        "# não há retorno com duas companhias iguais"
      ],
      "execution_count": 96,
      "outputs": [
        {
          "output_type": "stream",
          "text": [
            "# A tibble: 0 x 21\n",
            "# … with 21 variables: Year <int>, Month <int>, DayofMonth <int>,\n",
            "#   DayOfWeek <int>, DepTime <int>, ArrTime <int>, UniqueCarrier <chr>,\n",
            "#   FlightNum <int>, TailNum <chr>, ActualElapsedTime <int>, AirTime <int>,\n",
            "#   ArrDelay <int>, DepDelay <int>, Origin <chr>, Dest <chr>, Distance <int>,\n",
            "#   TaxiIn <int>, TaxiOut <int>, Cancelled <int>, CancellationCode <chr>,\n",
            "#   Diverted <int>\n"
          ],
          "name": "stdout"
        }
      ]
    },
    {
      "cell_type": "code",
      "metadata": {
        "id": "ohkK2D8DrnVN",
        "colab_type": "code",
        "colab": {
          "base_uri": "https://localhost:8080/",
          "height": 302
        },
        "outputId": "a542217f-00b4-4f5f-9449-6c5fa800e3e4"
      },
      "source": [
        "#aplicando filter %in% vetor\n",
        "%%R\n",
        "filter(flights, UniqueCarrier %in% c(\"AA\", \"UA\"))"
      ],
      "execution_count": 97,
      "outputs": [
        {
          "output_type": "stream",
          "text": [
            "# A tibble: 5,316 x 21\n",
            "    Year Month DayofMonth DayOfWeek DepTime ArrTime UniqueCarrier FlightNum\n",
            "   <int> <int>      <int>     <int>   <int>   <int> <chr>             <int>\n",
            " 1  2011     1          1         6    1400    1500 AA                  428\n",
            " 2  2011     1          2         7    1401    1501 AA                  428\n",
            " 3  2011     1          3         1    1352    1502 AA                  428\n",
            " 4  2011     1          4         2    1403    1513 AA                  428\n",
            " 5  2011     1          5         3    1405    1507 AA                  428\n",
            " 6  2011     1          6         4    1359    1503 AA                  428\n",
            " 7  2011     1          7         5    1359    1509 AA                  428\n",
            " 8  2011     1          8         6    1355    1454 AA                  428\n",
            " 9  2011     1          9         7    1443    1554 AA                  428\n",
            "10  2011     1         10         1    1443    1553 AA                  428\n",
            "# … with 5,306 more rows, and 13 more variables: TailNum <chr>,\n",
            "#   ActualElapsedTime <int>, AirTime <int>, ArrDelay <int>, DepDelay <int>,\n",
            "#   Origin <chr>, Dest <chr>, Distance <int>, TaxiIn <int>, TaxiOut <int>,\n",
            "#   Cancelled <int>, CancellationCode <chr>, Diverted <int>\n"
          ],
          "name": "stdout"
        }
      ]
    },
    {
      "cell_type": "markdown",
      "metadata": {
        "id": "HzSS6JrboK4M",
        "colab_type": "text"
      },
      "source": [
        "#**Select()** - {dplyr}\n"
      ]
    },
    {
      "cell_type": "code",
      "metadata": {
        "id": "ZqGMCyC0oPzK",
        "colab_type": "code",
        "colab": {
          "base_uri": "https://localhost:8080/",
          "height": 252
        },
        "outputId": "88516575-1fc8-4b3f-f830-c532bea6ed66"
      },
      "source": [
        "%%R \n",
        "select(flights, Year:DayofMonth, contains(\"Taxi\"), contains(\"Delay\")) \n",
        "# seleção da colunas de year até DayofMonth - seleção range de colunas\n",
        "# e outras colunas que contenham caracteres \"Taxi\" e \"Delay\"\n",
        "# retornou o range + TaxiIn,, TaxiOut, ArrDelay, DepDelay"
      ],
      "execution_count": 98,
      "outputs": [
        {
          "output_type": "stream",
          "text": [
            "# A tibble: 227,496 x 7\n",
            "    Year Month DayofMonth TaxiIn TaxiOut ArrDelay DepDelay\n",
            "   <int> <int>      <int>  <int>   <int>    <int>    <int>\n",
            " 1  2011     1          1      7      13      -10        0\n",
            " 2  2011     1          2      6       9       -9        1\n",
            " 3  2011     1          3      5      17       -8       -8\n",
            " 4  2011     1          4      9      22        3        3\n",
            " 5  2011     1          5      9       9       -3        5\n",
            " 6  2011     1          6      6      13       -7       -1\n",
            " 7  2011     1          7     12      15       -1       -1\n",
            " 8  2011     1          8      7      12      -16       -5\n",
            " 9  2011     1          9      8      22       44       43\n",
            "10  2011     1         10      6      19       43       43\n",
            "# … with 227,486 more rows\n"
          ],
          "name": "stdout"
        }
      ]
    },
    {
      "cell_type": "markdown",
      "metadata": {
        "id": "cReyaIUbvDLg",
        "colab_type": "text"
      },
      "source": [
        "#**Organizando os Dados**"
      ]
    },
    {
      "cell_type": "code",
      "metadata": {
        "id": "lStPHI_AvTII",
        "colab_type": "code",
        "colab": {
          "base_uri": "https://localhost:8080/",
          "height": 252
        },
        "outputId": "5b9ef7cd-0523-4349-cd25-f56bb8edd614"
      },
      "source": [
        "%%R\n",
        "flights %>%\n",
        "  select(UniqueCarrier, DepDelay) %>%\n",
        "  arrange(DepDelay) #arrange"
      ],
      "execution_count": 99,
      "outputs": [
        {
          "output_type": "stream",
          "text": [
            "# A tibble: 227,496 x 2\n",
            "   UniqueCarrier DepDelay\n",
            "   <chr>            <int>\n",
            " 1 OO                 -33\n",
            " 2 MQ                 -23\n",
            " 3 XE                 -19\n",
            " 4 XE                 -19\n",
            " 5 CO                 -18\n",
            " 6 EV                 -18\n",
            " 7 XE                 -17\n",
            " 8 CO                 -17\n",
            " 9 XE                 -17\n",
            "10 MQ                 -17\n",
            "# … with 227,486 more rows\n"
          ],
          "name": "stdout"
        }
      ]
    },
    {
      "cell_type": "code",
      "metadata": {
        "id": "HhDPQZpZvhhV",
        "colab_type": "code",
        "colab": {
          "base_uri": "https://localhost:8080/",
          "height": 252
        },
        "outputId": "7f09882e-32a9-4e7e-c509-d93907f36b4c"
      },
      "source": [
        "%%R\n",
        "flights%>%\n",
        "  select(Distance, AirTime) %>%\n",
        "  mutate(Speed = Distance/AirTime*60) #mutate Speed"
      ],
      "execution_count": 100,
      "outputs": [
        {
          "output_type": "stream",
          "text": [
            "# A tibble: 227,496 x 3\n",
            "   Distance AirTime Speed\n",
            "      <int>   <int> <dbl>\n",
            " 1      224      40  336 \n",
            " 2      224      45  299.\n",
            " 3      224      48  280 \n",
            " 4      224      39  345.\n",
            " 5      224      44  305.\n",
            " 6      224      45  299.\n",
            " 7      224      43  313.\n",
            " 8      224      40  336 \n",
            " 9      224      41  328.\n",
            "10      224      45  299.\n",
            "# … with 227,486 more rows\n"
          ],
          "name": "stdout"
        }
      ]
    },
    {
      "cell_type": "markdown",
      "metadata": {
        "id": "us6f4aBhv8Q_",
        "colab_type": "text"
      },
      "source": [
        "#**head(with(data(tapply(col1, col2, mean, na.rm = TRUE))**"
      ]
    },
    {
      "cell_type": "code",
      "metadata": {
        "id": "SLgPYfRpv2TK",
        "colab_type": "code",
        "colab": {
          "base_uri": "https://localhost:8080/",
          "height": 50
        },
        "outputId": "bc486a4e-a07b-4e5b-8dae-4d05c25eb979"
      },
      "source": [
        "%%R\n",
        "head(with(flights, tapply(ArrDelay, Dest, mean, na.rm = TRUE)))"
      ],
      "execution_count": 101,
      "outputs": [
        {
          "output_type": "stream",
          "text": [
            "      ABQ       AEX       AGS       AMA       ANC       ASE \n",
            " 7.226259  5.839437  4.000000  6.840095 26.080645  6.794643 \n"
          ],
          "name": "stdout"
        }
      ]
    },
    {
      "cell_type": "markdown",
      "metadata": {
        "id": "aPuX9yMkv-eE",
        "colab_type": "text"
      },
      "source": [
        "#**aggregate()**"
      ]
    },
    {
      "cell_type": "code",
      "metadata": {
        "id": "t5KK3P44v4YX",
        "colab_type": "code",
        "colab": {
          "base_uri": "https://localhost:8080/",
          "height": 134
        },
        "outputId": "488af1c5-be38-49eb-d62f-b21c67c0dd52"
      },
      "source": [
        "%%R \n",
        "head(aggregate(ArrDelay ~ Dest, flights, mean))\n",
        "#agregação por cada um dos tipos de destino"
      ],
      "execution_count": 102,
      "outputs": [
        {
          "output_type": "stream",
          "text": [
            "  Dest  ArrDelay\n",
            "1  ABQ  7.226259\n",
            "2  AEX  5.839437\n",
            "3  AGS  4.000000\n",
            "4  AMA  6.840095\n",
            "5  ANC 26.080645\n",
            "6  ASE  6.794643\n"
          ],
          "name": "stdout"
        }
      ]
    },
    {
      "cell_type": "markdown",
      "metadata": {
        "id": "6MrdGUMrxcWo",
        "colab_type": "text"
      },
      "source": [
        "#**tally()** "
      ]
    },
    {
      "cell_type": "code",
      "metadata": {
        "id": "94sQqtBkw0kL",
        "colab_type": "code",
        "colab": {
          "base_uri": "https://localhost:8080/",
          "height": 269
        },
        "outputId": "e4fa16c8-de53-4a4a-8ad4-f21f29ec3267"
      },
      "source": [
        "%%R\n",
        "flights %>%\n",
        "  group_by(Month, DayofMonth) %>%\n",
        "  tally(sort = TRUE)"
      ],
      "execution_count": 103,
      "outputs": [
        {
          "output_type": "stream",
          "text": [
            "# A tibble: 365 x 3\n",
            "# Groups:   Month [12]\n",
            "   Month DayofMonth     n\n",
            "   <int>      <int> <int>\n",
            " 1     8          4   706\n",
            " 2     8         11   706\n",
            " 3     8         12   706\n",
            " 4     8          5   705\n",
            " 5     8          3   704\n",
            " 6     8         10   704\n",
            " 7     1          3   702\n",
            " 8     7          7   702\n",
            " 9     7         14   702\n",
            "10     7         28   701\n",
            "# … with 355 more rows\n"
          ],
          "name": "stdout"
        }
      ]
    },
    {
      "cell_type": "code",
      "metadata": {
        "id": "qS937YXfxWcJ",
        "colab_type": "code",
        "colab": {}
      },
      "source": [
        ""
      ],
      "execution_count": 0,
      "outputs": []
    }
  ]
}
